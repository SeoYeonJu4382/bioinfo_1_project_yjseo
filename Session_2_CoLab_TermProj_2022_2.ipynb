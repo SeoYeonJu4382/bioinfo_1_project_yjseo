{
  "nbformat": 4,
  "nbformat_minor": 0,
  "metadata": {
    "colab": {
      "name": "Session_2_CoLab_TermProj_2022-2.ipynb",
      "provenance": [],
      "collapsed_sections": [],
      "include_colab_link": true
    },
    "kernelspec": {
      "name": "python3",
      "display_name": "Python 3"
    }
  },
  "cells": [
    {
      "cell_type": "markdown",
      "metadata": {
        "id": "view-in-github",
        "colab_type": "text"
      },
      "source": [
        "<a href=\"https://colab.research.google.com/github/SeoYeonJu4382/bioinfo_1_project_yjseo/blob/main/Session_2_CoLab_TermProj_2022_2.ipynb\" target=\"_parent\"><img src=\"https://colab.research.google.com/assets/colab-badge.svg\" alt=\"Open In Colab\"/></a>"
      ]
    },
    {
      "cell_type": "markdown",
      "metadata": {
        "id": "_SmTogjeMD47"
      },
      "source": [
        "# 생물정보학 및 실습 1 - Term Project용 Mission 2 환경 셋업"
      ]
    },
    {
      "cell_type": "markdown",
      "metadata": {
        "id": "o7NwoWdnMuHS"
      },
      "source": [
        "```\n",
        "생물정보학 및 실습 1\n",
        "서울대학교 협동과정 생물정보학전공 2022년 1학기\n",
        "\n",
        "이 노트북은 Creative Commons BY-SA 조건으로 재사용 가능합니다.\n",
        "장혜식 <hyeshik@snu.ac.kr>, 서울대학교 생명과학부\n",
        "```\n",
        "\n",
        "이 노트북은 Google Colab을 이용해서 Term Project를 할 수 있도록 환경을 준비해 줍니다. 터미널 사용이 원활하지 않은 상태이고, 데이터를 오랫동안 보관하기 어렵기 때문에 되도록 개인용 컴퓨터에서 [Anaconda](https://www.anaconda.com/)나 [JupyterLab](https://jupyterlab.readthedocs.io/en/stable/) 등을 설치하고 사용하시는 것이 편하지만, 개인용 컴퓨터 사양이 부족한 경우에는 Google CoLab을 사용할 수도 있습니다. 개인용 컴퓨터를 쓸 때는 Windows에서는 [WSL2](https://docs.microsoft.com/en-us/windows/wsl/install-win10)를 쓰시면 리눅스 커맨드라인 환경을 쓸 수 있습니다. Google Colab은 창을 닫은 후 90분 후, 또는 창을 처음 열고 12시간 후에 환경을 닫아버리기 때문에 매번 실습할 때마다 새로 셋업이 필요합니다. `Runtime->Run All`을 실행해서 전체를 한 번 실행하시면 준비됩니다. 모든 것이 잘 안 되고 뭔가 꼬인 느낌이 강하게 들 때는 `Runtime->Factory reset runtime`을 누르고 새로 시작하시면 될 수도 있습니다.\n"
      ]
    },
    {
      "cell_type": "markdown",
      "metadata": {
        "id": "O4ofnSipMuHa"
      },
      "source": [
        "## Google Drive 마운트\n",
        "\n",
        "데이터 파일들을 불러오고 저장하기 위해서 Google Drive를 연결합니다. **이번엔 스크립트 파일을 편집해야 하기 때문에 Google Drive 마운트를 하지 않으면 vim등 콘솔에서 쓸 수 있는 에디터를 쓰셔야 합니다.** 화면에 나오는 주소를 눌러서 인증하고 인증 코드를 그 아래에 입력하세요. 그러면 `/contents/drive/MyDrive`에서 자신의 Drive 최상단 폴더가 보입니다. Google CoLab에서 접속하지 않고, 본인 컴퓨터 또는 연구실 워크스테이션 등 다른 컴퓨터를 쓰시는 경우에는 저장공간이 충분하므로 이 부분은 생략하고 지나갑니다."
      ]
    },
    {
      "cell_type": "code",
      "metadata": {
        "id": "2kWbS8JWMuHa",
        "colab": {
          "base_uri": "https://localhost:8080/"
        },
        "outputId": "01409241-b594-4630-856c-02a9ccf4a8d4"
      },
      "source": [
        "from google.colab import drive\n",
        "drive.mount('/content/drive')"
      ],
      "execution_count": 1,
      "outputs": [
        {
          "output_type": "stream",
          "name": "stdout",
          "text": [
            "Mounted at /content/drive\n"
          ]
        }
      ]
    },
    {
      "cell_type": "markdown",
      "metadata": {
        "id": "xQZGShwEMuHa"
      },
      "source": [
        "## 실습용 Bioconda 환경 설치하기\n",
        "Google CoLab에서 접속하지 않고, 본인 컴퓨터 또는 연구실 워크스테이션 등 다른 컴퓨터를 쓰시는 경우에는 따로 실습용 [Bioconda](https://bioconda.github.io/) 환경을 구축해서 이 노트북을 그 환경 안에서 띄우시면 됩니다.\n",
        "\n",
        "CoLab을 쓰시는 분들은 다음에 따라서 실습용 프로그램들을 쉽게 설치할 수 있도록 [Bioconda](https://bioconda.github.io/) 환경을 만듭니다. 실행하고 진행상황을 관찰하다가 에러로 보이는 것이 있으면 잘 읽어보고 해결합니다.\n",
        "\n",
        "파이썬 모듈들은 Colab쪽의 파이썬 인터프리터를 바꿀 수 없기 때문에 Conda에 설치하더라도 사용하기 어렵습니다. 파이썬 모듈은 `pip` 명령어로 설치하시면 Colab에서 불러와서 사용할 수 있습니다.\n",
        "\n",
        "환경 초기화에 관련된 스크립트는 [GitHub 프로젝트](https://github.com/hyeshik/colab-biolab)에 있습니다."
      ]
    },
    {
      "cell_type": "code",
      "metadata": {
        "id": "_i5ZwVHUMuHb",
        "colab": {
          "base_uri": "https://localhost:8080/"
        },
        "outputId": "d9812aca-bf47-43f9-83bf-447cc12d82e2"
      },
      "source": [
        "!git clone https://github.com/hyeshik/colab-biolab.git\n",
        "!cd colab-biolab && bash tools/setup.sh\n",
        "exec(open('colab-biolab/tools/activate_conda.py').read())"
      ],
      "execution_count": 2,
      "outputs": [
        {
          "output_type": "stream",
          "name": "stdout",
          "text": [
            "Cloning into 'colab-biolab'...\n",
            "remote: Enumerating objects: 69, done.\u001b[K\n",
            "remote: Counting objects: 100% (69/69), done.\u001b[K\n",
            "remote: Compressing objects: 100% (43/43), done.\u001b[K\n",
            "remote: Total 69 (delta 22), reused 54 (delta 13), pack-reused 0\u001b[K\n",
            "Unpacking objects: 100% (69/69), done.\n",
            "./\n",
            "./root/\n",
            "./root/.tmux.conf\n",
            "./root/.bashrc.biolab\n",
            "./root/.condarc\n",
            "./root/.bin.priority/\n",
            "./root/.bin.priority/pip3\n",
            "./root/.bin.priority/pip2\n",
            "./root/.bin.priority/pip\n",
            "./root/.profile\n",
            "./root/.vimrc\n",
            "--2022-05-13 03:08:40--  https://repo.anaconda.com/miniconda/Miniconda3-latest-Linux-x86_64.sh\n",
            "Resolving repo.anaconda.com (repo.anaconda.com)... 104.16.131.3, 104.16.130.3, 2606:4700::6810:8303, ...\n",
            "Connecting to repo.anaconda.com (repo.anaconda.com)|104.16.131.3|:443... connected.\n",
            "HTTP request sent, awaiting response... 200 OK\n",
            "Length: 75660608 (72M) [application/x-sh]\n",
            "Saving to: ‘miniconda3.sh’\n",
            "\n",
            "miniconda3.sh       100%[===================>]  72.16M  79.2MB/s    in 0.9s    \n",
            "\n",
            "2022-05-13 03:08:41 (79.2 MB/s) - ‘miniconda3.sh’ saved [75660608/75660608]\n",
            "\n",
            "PREFIX=/root/conda\n",
            "Unpacking payload ...\n",
            "Collecting package metadata (current_repodata.json): - \b\b\\ \b\b| \b\b/ \b\bdone\n",
            "Solving environment: \\ \b\b| \b\b/ \b\bdone\n",
            "\n",
            "## Package Plan ##\n",
            "\n",
            "  environment location: /root/conda\n",
            "\n",
            "  added / updated specs:\n",
            "    - _libgcc_mutex==0.1=main\n",
            "    - _openmp_mutex==4.5=1_gnu\n",
            "    - brotlipy==0.7.0=py39h27cfd23_1003\n",
            "    - ca-certificates==2021.10.26=h06a4308_2\n",
            "    - certifi==2021.10.8=py39h06a4308_2\n",
            "    - cffi==1.15.0=py39hd667e15_1\n",
            "    - charset-normalizer==2.0.4=pyhd3eb1b0_0\n",
            "    - conda-content-trust==0.1.1=pyhd3eb1b0_0\n",
            "    - conda-package-handling==1.7.3=py39h27cfd23_1\n",
            "    - conda==4.11.0=py39h06a4308_0\n",
            "    - cryptography==36.0.0=py39h9ce1e76_0\n",
            "    - idna==3.3=pyhd3eb1b0_0\n",
            "    - ld_impl_linux-64==2.35.1=h7274673_9\n",
            "    - libffi==3.3=he6710b0_2\n",
            "    - libgcc-ng==9.3.0=h5101ec6_17\n",
            "    - libgomp==9.3.0=h5101ec6_17\n",
            "    - libstdcxx-ng==9.3.0=hd4cf53a_17\n",
            "    - ncurses==6.3=h7f8727e_2\n",
            "    - openssl==1.1.1m=h7f8727e_0\n",
            "    - pip==21.2.4=py39h06a4308_0\n",
            "    - pycosat==0.6.3=py39h27cfd23_0\n",
            "    - pycparser==2.21=pyhd3eb1b0_0\n",
            "    - pyopenssl==21.0.0=pyhd3eb1b0_1\n",
            "    - pysocks==1.7.1=py39h06a4308_0\n",
            "    - python==3.9.7=h12debd9_1\n",
            "    - readline==8.1.2=h7f8727e_1\n",
            "    - requests==2.27.1=pyhd3eb1b0_0\n",
            "    - ruamel_yaml==0.15.100=py39h27cfd23_0\n",
            "    - setuptools==58.0.4=py39h06a4308_0\n",
            "    - six==1.16.0=pyhd3eb1b0_0\n",
            "    - sqlite==3.37.0=hc218d9a_0\n",
            "    - tk==8.6.11=h1ccaba5_0\n",
            "    - tqdm==4.62.3=pyhd3eb1b0_1\n",
            "    - tzdata==2021e=hda174b7_0\n",
            "    - urllib3==1.26.7=pyhd3eb1b0_0\n",
            "    - wheel==0.37.1=pyhd3eb1b0_0\n",
            "    - xz==5.2.5=h7b6447c_0\n",
            "    - yaml==0.2.5=h7b6447c_0\n",
            "    - zlib==1.2.11=h7f8727e_4\n",
            "\n",
            "\n",
            "The following NEW packages will be INSTALLED:\n",
            "\n",
            "  _libgcc_mutex      pkgs/main/linux-64::_libgcc_mutex-0.1-main\n",
            "  _openmp_mutex      pkgs/main/linux-64::_openmp_mutex-4.5-1_gnu\n",
            "  brotlipy           pkgs/main/linux-64::brotlipy-0.7.0-py39h27cfd23_1003\n",
            "  ca-certificates    pkgs/main/linux-64::ca-certificates-2021.10.26-h06a4308_2\n",
            "  certifi            pkgs/main/linux-64::certifi-2021.10.8-py39h06a4308_2\n",
            "  cffi               pkgs/main/linux-64::cffi-1.15.0-py39hd667e15_1\n",
            "  charset-normalizer pkgs/main/noarch::charset-normalizer-2.0.4-pyhd3eb1b0_0\n",
            "  conda              pkgs/main/linux-64::conda-4.11.0-py39h06a4308_0\n",
            "  conda-content-tru~ pkgs/main/noarch::conda-content-trust-0.1.1-pyhd3eb1b0_0\n",
            "  conda-package-han~ pkgs/main/linux-64::conda-package-handling-1.7.3-py39h27cfd23_1\n",
            "  cryptography       pkgs/main/linux-64::cryptography-36.0.0-py39h9ce1e76_0\n",
            "  idna               pkgs/main/noarch::idna-3.3-pyhd3eb1b0_0\n",
            "  ld_impl_linux-64   pkgs/main/linux-64::ld_impl_linux-64-2.35.1-h7274673_9\n",
            "  libffi             pkgs/main/linux-64::libffi-3.3-he6710b0_2\n",
            "  libgcc-ng          pkgs/main/linux-64::libgcc-ng-9.3.0-h5101ec6_17\n",
            "  libgomp            pkgs/main/linux-64::libgomp-9.3.0-h5101ec6_17\n",
            "  libstdcxx-ng       pkgs/main/linux-64::libstdcxx-ng-9.3.0-hd4cf53a_17\n",
            "  ncurses            pkgs/main/linux-64::ncurses-6.3-h7f8727e_2\n",
            "  openssl            pkgs/main/linux-64::openssl-1.1.1m-h7f8727e_0\n",
            "  pip                pkgs/main/linux-64::pip-21.2.4-py39h06a4308_0\n",
            "  pycosat            pkgs/main/linux-64::pycosat-0.6.3-py39h27cfd23_0\n",
            "  pycparser          pkgs/main/noarch::pycparser-2.21-pyhd3eb1b0_0\n",
            "  pyopenssl          pkgs/main/noarch::pyopenssl-21.0.0-pyhd3eb1b0_1\n",
            "  pysocks            pkgs/main/linux-64::pysocks-1.7.1-py39h06a4308_0\n",
            "  python             pkgs/main/linux-64::python-3.9.7-h12debd9_1\n",
            "  readline           pkgs/main/linux-64::readline-8.1.2-h7f8727e_1\n",
            "  requests           pkgs/main/noarch::requests-2.27.1-pyhd3eb1b0_0\n",
            "  ruamel_yaml        pkgs/main/linux-64::ruamel_yaml-0.15.100-py39h27cfd23_0\n",
            "  setuptools         pkgs/main/linux-64::setuptools-58.0.4-py39h06a4308_0\n",
            "  six                pkgs/main/noarch::six-1.16.0-pyhd3eb1b0_0\n",
            "  sqlite             pkgs/main/linux-64::sqlite-3.37.0-hc218d9a_0\n",
            "  tk                 pkgs/main/linux-64::tk-8.6.11-h1ccaba5_0\n",
            "  tqdm               pkgs/main/noarch::tqdm-4.62.3-pyhd3eb1b0_1\n",
            "  tzdata             pkgs/main/noarch::tzdata-2021e-hda174b7_0\n",
            "  urllib3            pkgs/main/noarch::urllib3-1.26.7-pyhd3eb1b0_0\n",
            "  wheel              pkgs/main/noarch::wheel-0.37.1-pyhd3eb1b0_0\n",
            "  xz                 pkgs/main/linux-64::xz-5.2.5-h7b6447c_0\n",
            "  yaml               pkgs/main/linux-64::yaml-0.2.5-h7b6447c_0\n",
            "  zlib               pkgs/main/linux-64::zlib-1.2.11-h7f8727e_4\n",
            "\n",
            "\n",
            "Preparing transaction: \\ \b\b| \b\b/ \b\b- \b\bdone\n",
            "Executing transaction: | \b\b/ \b\b- \b\b\\ \b\b| \b\b/ \b\b- \b\b\\ \b\b| \b\b/ \b\b- \b\b\\ \b\b| \b\b/ \b\b- \b\b\\ \b\bdone\n",
            "installation finished.\n",
            "WARNING:\n",
            "    You currently have a PYTHONPATH environment variable set. This may cause\n",
            "    unexpected behavior when running the Python interpreter in Miniconda3.\n",
            "    For best results, please verify that your PYTHONPATH only points to\n",
            "    directories of packages that are compatible with the Python interpreter\n",
            "    in Miniconda3: /root/conda\n",
            "Collecting package metadata (current_repodata.json): - \b\b\\ \b\b| \b\b/ \b\b- \b\b\\ \b\b| \b\b/ \b\b- \b\b\\ \b\b| \b\b/ \b\b- \b\b\\ \b\b| \b\b/ \b\b- \b\b\\ \b\b| \b\b/ \b\b- \b\b\\ \b\b| \b\b/ \b\b- \b\b\\ \b\b| \b\b/ \b\b- \b\b\\ \b\b| \b\b/ \b\b- \b\b\\ \b\b| \b\b/ \b\b- \b\b\\ \b\b| \b\b/ \b\b- \b\b\\ \b\b| \b\b/ \b\b- \b\b\\ \b\b| \b\b/ \b\b- \b\b\\ \b\b| \b\b/ \b\b- \b\b\\ \b\b| \b\b/ \b\b- \b\b\\ \b\b| \b\b/ \b\b- \b\b\\ \b\b| \b\b/ \b\b- \b\b\\ \b\b| \b\b/ \b\b- \b\b\\ \b\b| \b\b/ \b\b- \b\b\\ \b\b| \b\b/ \b\b- \b\b\\ \b\b| \b\b/ \b\b- \b\b\\ \b\b| \b\b/ \b\b- \b\b\\ \b\b| \b\b/ \b\b- \b\b\\ \b\b| \b\b/ \b\b- \b\b\\ \b\b| \b\b/ \b\b- \b\b\\ \b\b| \b\b/ \b\b- \b\b\\ \b\b| \b\b/ \b\b- \b\b\\ \b\b| \b\b/ \b\b- \b\b\\ \b\b| \b\b/ \b\b- \b\b\\ \b\b| \b\b/ \b\b- \b\bdone\n",
            "Solving environment: | \b\b/ \b\b- \b\b\\ \b\b| \b\b/ \b\b- \b\b\\ \b\b| \b\b/ \b\b- \b\b\\ \b\b| \b\b/ \b\b- \b\b\\ \b\b| \b\b/ \b\b- \b\b\\ \b\b| \b\b/ \b\b- \b\b\\ \b\b| \b\b/ \b\b- \b\b\\ \b\b| \b\b/ \b\b- \b\b\\ \b\b| \b\b/ \b\b- \b\b\\ \b\b| \b\b/ \b\b- \b\b\\ \b\b| \b\b/ \b\b- \b\b\\ \b\b| \b\b/ \b\b- \b\b\\ \b\b| \b\b/ \b\b- \b\b\\ \b\b| \b\b/ \b\b- \b\b\\ \b\b| \b\b/ \b\b- \b\b\\ \b\b| \b\b/ \b\b- \b\b\\ \b\b| \b\b/ \b\b- \b\b\\ \b\b| \b\b/ \b\b- \b\b\\ \b\bdone\n",
            "\n",
            "\n",
            "==> WARNING: A newer version of conda exists. <==\n",
            "  current version: 4.11.0\n",
            "  latest version: 4.12.0\n",
            "\n",
            "Please update conda by running\n",
            "\n",
            "    $ conda update -n base -c defaults conda\n",
            "\n",
            "\n",
            "\n",
            "## Package Plan ##\n",
            "\n",
            "  environment location: /root/conda/envs/lab\n",
            "\n",
            "  added / updated specs:\n",
            "    - bedtools\n",
            "    - biopython\n",
            "    - bwa\n",
            "    - cython\n",
            "    - matplotlib\n",
            "    - numpy\n",
            "    - pandas\n",
            "    - pip\n",
            "    - pysam\n",
            "    - samtools\n",
            "    - scipy\n",
            "    - star\n",
            "\n",
            "\n",
            "The following packages will be downloaded:\n",
            "\n",
            "    package                    |            build\n",
            "    ---------------------------|-----------------\n",
            "    _libgcc_mutex-0.1          |      conda_forge           3 KB  conda-forge\n",
            "    _openmp_mutex-4.5          |            2_gnu          23 KB  conda-forge\n",
            "    alsa-lib-1.2.3.2           |       h166bdaf_0         554 KB  conda-forge\n",
            "    attr-2.5.1                 |       h166bdaf_0          69 KB  conda-forge\n",
            "    bedtools-2.30.0            |       h468198e_3        15.5 MB  bioconda\n",
            "    biopython-1.79             |   py39h3811e60_1         2.6 MB  conda-forge\n",
            "    brotli-1.0.9               |       h166bdaf_7          18 KB  conda-forge\n",
            "    brotli-bin-1.0.9           |       h166bdaf_7          19 KB  conda-forge\n",
            "    bwa-0.7.17                 |       h7132678_9         187 KB  bioconda\n",
            "    bzip2-1.0.8                |       h7f98852_4         484 KB  conda-forge\n",
            "    c-ares-1.18.1              |       h7f98852_0         113 KB  conda-forge\n",
            "    ca-certificates-2021.10.8  |       ha878542_0         139 KB  conda-forge\n",
            "    certifi-2021.10.8          |   py39hf3d152e_2         145 KB  conda-forge\n",
            "    cycler-0.11.0              |     pyhd8ed1ab_0          10 KB  conda-forge\n",
            "    cython-0.29.28             |   py39h5a03fae_2         2.1 MB  conda-forge\n",
            "    dbus-1.13.6                |       h5008d03_3         604 KB  conda-forge\n",
            "    expat-2.4.8                |       h27087fc_0         187 KB  conda-forge\n",
            "    fftw-3.3.10                |nompi_h77c792f_102         6.4 MB  conda-forge\n",
            "    font-ttf-dejavu-sans-mono-2.37|       hab24e00_0         388 KB  conda-forge\n",
            "    font-ttf-inconsolata-3.000 |       h77eed37_0          94 KB  conda-forge\n",
            "    font-ttf-source-code-pro-2.038|       h77eed37_0         684 KB  conda-forge\n",
            "    font-ttf-ubuntu-0.83       |       hab24e00_0         1.9 MB  conda-forge\n",
            "    fontconfig-2.14.0          |       h8e229c2_0         305 KB  conda-forge\n",
            "    fonts-conda-ecosystem-1    |                0           4 KB  conda-forge\n",
            "    fonts-conda-forge-1        |                0           4 KB  conda-forge\n",
            "    fonttools-4.33.3           |   py39hb9d737c_0         1.6 MB  conda-forge\n",
            "    freetype-2.10.4            |       h0708190_1         890 KB  conda-forge\n",
            "    gettext-0.19.8.1           |    h73d1719_1008         3.6 MB  conda-forge\n",
            "    giflib-5.2.1               |       h36c2ea0_2          77 KB  conda-forge\n",
            "    gst-plugins-base-1.20.2    |       hcf0ee16_0         2.8 MB  conda-forge\n",
            "    gstreamer-1.20.2           |       hd4edc92_0         2.0 MB  conda-forge\n",
            "    htslib-1.15.1              |       h9753748_0         2.1 MB  bioconda\n",
            "    icu-70.1                   |       h27087fc_0        13.5 MB  conda-forge\n",
            "    jack-1.9.18                |    hfd4fe87_1001         640 KB  conda-forge\n",
            "    jbig-2.1                   |    h7f98852_2003          43 KB  conda-forge\n",
            "    jpeg-9e                    |       h166bdaf_1         268 KB  conda-forge\n",
            "    json-c-0.15                |       h98cffda_0         274 KB  conda-forge\n",
            "    keyutils-1.6.1             |       h166bdaf_0         115 KB  conda-forge\n",
            "    kiwisolver-1.4.2           |   py39hf939315_1          75 KB  conda-forge\n",
            "    krb5-1.19.3                |       h3790be6_0         1.4 MB  conda-forge\n",
            "    lcms2-2.12                 |       hddcbb42_0         443 KB  conda-forge\n",
            "    ld_impl_linux-64-2.36.1    |       hea4e1c9_2         667 KB  conda-forge\n",
            "    lerc-3.0                   |       h9c3ff4c_0         216 KB  conda-forge\n",
            "    libblas-3.9.0              |14_linux64_openblas          12 KB  conda-forge\n",
            "    libbrotlicommon-1.0.9      |       h166bdaf_7          65 KB  conda-forge\n",
            "    libbrotlidec-1.0.9         |       h166bdaf_7          33 KB  conda-forge\n",
            "    libbrotlienc-1.0.9         |       h166bdaf_7         287 KB  conda-forge\n",
            "    libcap-2.51                |       h166bdaf_1          85 KB  conda-forge\n",
            "    libcblas-3.9.0             |14_linux64_openblas          12 KB  conda-forge\n",
            "    libclang-14.0.3            |default_h2e3cab8_0         127 KB  conda-forge\n",
            "    libclang13-14.0.3          |default_h3a83d3e_0        10.6 MB  conda-forge\n",
            "    libcups-2.3.3              |       hf5a7f15_1         4.6 MB  conda-forge\n",
            "    libcurl-7.83.1             |       h7bff187_0         342 KB  conda-forge\n",
            "    libdb-6.2.32               |       h9c3ff4c_0        23.3 MB  conda-forge\n",
            "    libdeflate-1.10            |       h7f98852_0          77 KB  conda-forge\n",
            "    libedit-3.1.20191231       |       he28a2e2_2         121 KB  conda-forge\n",
            "    libev-4.33                 |       h516909a_1         104 KB  conda-forge\n",
            "    libevent-2.1.10            |       h9b69904_4         1.1 MB  conda-forge\n",
            "    libffi-3.4.2               |       h7f98852_5          57 KB  conda-forge\n",
            "    libflac-1.3.4              |       h27087fc_0         474 KB  conda-forge\n",
            "    libgcc-ng-12.1.0           |      h8d9b700_16         940 KB  conda-forge\n",
            "    libgfortran-ng-12.1.0      |      h69a702a_16          23 KB  conda-forge\n",
            "    libgfortran5-12.1.0        |      hdcd56e2_16         1.8 MB  conda-forge\n",
            "    libglib-2.70.2             |       h174f98d_4         3.1 MB  conda-forge\n",
            "    libgomp-12.1.0             |      h8d9b700_16         459 KB  conda-forge\n",
            "    libiconv-1.16              |       h516909a_0         1.4 MB  conda-forge\n",
            "    liblapack-3.9.0            |14_linux64_openblas          12 KB  conda-forge\n",
            "    libllvm14-14.0.3           |       he0ac6c6_0        35.2 MB  conda-forge\n",
            "    libnghttp2-1.47.0          |       h727a467_0         808 KB  conda-forge\n",
            "    libnsl-2.0.0               |       h7f98852_0          31 KB  conda-forge\n",
            "    libogg-1.3.4               |       h7f98852_1         206 KB  conda-forge\n",
            "    libopenblas-0.3.20         |pthreads_h78a6416_0        10.1 MB  conda-forge\n",
            "    libopus-1.3.1              |       h7f98852_1         255 KB  conda-forge\n",
            "    libpng-1.6.37              |       h21135ba_2         306 KB  conda-forge\n",
            "    libpq-14.3                 |       hd77ab85_0         3.0 MB  conda-forge\n",
            "    libsndfile-1.0.31          |       h9c3ff4c_1         602 KB  conda-forge\n",
            "    libssh2-1.10.0             |       ha56f1ee_2         233 KB  conda-forge\n",
            "    libstdcxx-ng-12.1.0        |      ha89aaad_16         4.3 MB  conda-forge\n",
            "    libtiff-4.3.0              |       h542a066_3         638 KB  conda-forge\n",
            "    libtool-2.4.6              |    h9c3ff4c_1008         511 KB  conda-forge\n",
            "    libuuid-2.32.1             |    h7f98852_1000          28 KB  conda-forge\n",
            "    libvorbis-1.3.7            |       h9c3ff4c_0         280 KB  conda-forge\n",
            "    libwebp-1.2.2              |       h3452ae3_0          85 KB  conda-forge\n",
            "    libwebp-base-1.2.2         |       h7f98852_1         824 KB  conda-forge\n",
            "    libxcb-1.13                |    h7f98852_1004         391 KB  conda-forge\n",
            "    libxkbcommon-1.0.3         |       he3ba5ed_0         581 KB  conda-forge\n",
            "    libxml2-2.9.14             |       h22db469_0         770 KB  conda-forge\n",
            "    libzlib-1.2.11             |    h166bdaf_1014          60 KB  conda-forge\n",
            "    lz4-c-1.9.3                |       h9c3ff4c_1         179 KB  conda-forge\n",
            "    matplotlib-3.5.2           |   py39hf3d152e_0           6 KB  conda-forge\n",
            "    matplotlib-base-3.5.2      |   py39h700656a_0         7.3 MB  conda-forge\n",
            "    munkres-1.1.4              |     pyh9f0ad1d_0          12 KB  conda-forge\n",
            "    mysql-common-8.0.29        |       haf5c9bc_0         1.8 MB  conda-forge\n",
            "    mysql-libs-8.0.29          |       h28c427c_0         1.9 MB  conda-forge\n",
            "    ncurses-6.3                |       h27087fc_1        1002 KB  conda-forge\n",
            "    nspr-4.32                  |       h9c3ff4c_1         233 KB  conda-forge\n",
            "    nss-3.77                   |       h2350873_0         2.1 MB  conda-forge\n",
            "    numpy-1.22.3               |   py39hc58783e_2         6.8 MB  conda-forge\n",
            "    openjpeg-2.4.0             |       hb52868f_1         444 KB  conda-forge\n",
            "    openssl-1.1.1o             |       h166bdaf_0         2.1 MB  conda-forge\n",
            "    packaging-21.3             |     pyhd8ed1ab_0          36 KB  conda-forge\n",
            "    pandas-1.4.2               |   py39h1832856_1        12.5 MB  conda-forge\n",
            "    pcre-8.45                  |       h9c3ff4c_0         253 KB  conda-forge\n",
            "    perl-5.32.1                | 2_h7f98852_perl5        14.4 MB  conda-forge\n",
            "    pillow-9.1.0               |   py39hae2aec6_2        45.0 MB  conda-forge\n",
            "    pip-22.1                   |     pyhd8ed1ab_0         1.6 MB  conda-forge\n",
            "    pthread-stubs-0.4          |    h36c2ea0_1001           5 KB  conda-forge\n",
            "    pulseaudio-14.0            |       hb166930_4         1.6 MB  conda-forge\n",
            "    pyparsing-3.0.9            |     pyhd8ed1ab_0          79 KB  conda-forge\n",
            "    pyqt-5.15.4                |   py39h5a03fae_0         6.2 MB  conda-forge\n",
            "    pyqt5-sip-12.9.0           |   py39h5a03fae_0          84 KB  conda-forge\n",
            "    pysam-0.19.0               |   py39h5030a8b_0         2.7 MB  bioconda\n",
            "    python-3.9.12              |h9a8a25e_1_cpython        26.7 MB  conda-forge\n",
            "    python-dateutil-2.8.2      |     pyhd8ed1ab_0         240 KB  conda-forge\n",
            "    python_abi-3.9             |           2_cp39           4 KB  conda-forge\n",
            "    pytz-2022.1                |     pyhd8ed1ab_0         242 KB  conda-forge\n",
            "    qt-main-5.15.3             |       hf97cb25_1        62.2 MB  conda-forge\n",
            "    readline-8.1               |       h46c0cb4_0         295 KB  conda-forge\n",
            "    samtools-1.15.1            |       h1170115_0         393 KB  bioconda\n",
            "    scipy-1.8.0                |   py39hee8e79c_1        25.4 MB  conda-forge\n",
            "    setuptools-62.2.0          |   py39hf3d152e_0         1.2 MB  conda-forge\n",
            "    sip-6.5.1                  |   py39he80948d_2         389 KB  conda-forge\n",
            "    six-1.16.0                 |     pyh6c4a22f_0          14 KB  conda-forge\n",
            "    sqlite-3.38.5              |       h4ff8645_0         1.5 MB  conda-forge\n",
            "    star-2.7.10a               |       h9ee0642_0         4.9 MB  bioconda\n",
            "    tk-8.6.12                  |       h27826a3_0         3.3 MB  conda-forge\n",
            "    toml-0.10.2                |     pyhd8ed1ab_0          18 KB  conda-forge\n",
            "    tornado-6.1                |   py39hb9d737c_3         649 KB  conda-forge\n",
            "    tzdata-2022a               |       h191b570_0         121 KB  conda-forge\n",
            "    unicodedata2-14.0.0        |   py39hb9d737c_1         498 KB  conda-forge\n",
            "    wheel-0.37.1               |     pyhd8ed1ab_0          31 KB  conda-forge\n",
            "    xorg-libxau-1.0.9          |       h7f98852_0          13 KB  conda-forge\n",
            "    xorg-libxdmcp-1.1.3        |       h7f98852_0          19 KB  conda-forge\n",
            "    xz-5.2.5                   |       h516909a_1         343 KB  conda-forge\n",
            "    zlib-1.2.11                |    h166bdaf_1014          88 KB  conda-forge\n",
            "    zstd-1.5.2                 |       ha95c52a_0         458 KB  conda-forge\n",
            "    ------------------------------------------------------------\n",
            "                                           Total:       408.3 MB\n",
            "\n",
            "The following NEW packages will be INSTALLED:\n",
            "\n",
            "  _libgcc_mutex      conda-forge/linux-64::_libgcc_mutex-0.1-conda_forge\n",
            "  _openmp_mutex      conda-forge/linux-64::_openmp_mutex-4.5-2_gnu\n",
            "  alsa-lib           conda-forge/linux-64::alsa-lib-1.2.3.2-h166bdaf_0\n",
            "  attr               conda-forge/linux-64::attr-2.5.1-h166bdaf_0\n",
            "  bedtools           bioconda/linux-64::bedtools-2.30.0-h468198e_3\n",
            "  biopython          conda-forge/linux-64::biopython-1.79-py39h3811e60_1\n",
            "  brotli             conda-forge/linux-64::brotli-1.0.9-h166bdaf_7\n",
            "  brotli-bin         conda-forge/linux-64::brotli-bin-1.0.9-h166bdaf_7\n",
            "  bwa                bioconda/linux-64::bwa-0.7.17-h7132678_9\n",
            "  bzip2              conda-forge/linux-64::bzip2-1.0.8-h7f98852_4\n",
            "  c-ares             conda-forge/linux-64::c-ares-1.18.1-h7f98852_0\n",
            "  ca-certificates    conda-forge/linux-64::ca-certificates-2021.10.8-ha878542_0\n",
            "  certifi            conda-forge/linux-64::certifi-2021.10.8-py39hf3d152e_2\n",
            "  cycler             conda-forge/noarch::cycler-0.11.0-pyhd8ed1ab_0\n",
            "  cython             conda-forge/linux-64::cython-0.29.28-py39h5a03fae_2\n",
            "  dbus               conda-forge/linux-64::dbus-1.13.6-h5008d03_3\n",
            "  expat              conda-forge/linux-64::expat-2.4.8-h27087fc_0\n",
            "  fftw               conda-forge/linux-64::fftw-3.3.10-nompi_h77c792f_102\n",
            "  font-ttf-dejavu-s~ conda-forge/noarch::font-ttf-dejavu-sans-mono-2.37-hab24e00_0\n",
            "  font-ttf-inconsol~ conda-forge/noarch::font-ttf-inconsolata-3.000-h77eed37_0\n",
            "  font-ttf-source-c~ conda-forge/noarch::font-ttf-source-code-pro-2.038-h77eed37_0\n",
            "  font-ttf-ubuntu    conda-forge/noarch::font-ttf-ubuntu-0.83-hab24e00_0\n",
            "  fontconfig         conda-forge/linux-64::fontconfig-2.14.0-h8e229c2_0\n",
            "  fonts-conda-ecosy~ conda-forge/noarch::fonts-conda-ecosystem-1-0\n",
            "  fonts-conda-forge  conda-forge/noarch::fonts-conda-forge-1-0\n",
            "  fonttools          conda-forge/linux-64::fonttools-4.33.3-py39hb9d737c_0\n",
            "  freetype           conda-forge/linux-64::freetype-2.10.4-h0708190_1\n",
            "  gettext            conda-forge/linux-64::gettext-0.19.8.1-h73d1719_1008\n",
            "  giflib             conda-forge/linux-64::giflib-5.2.1-h36c2ea0_2\n",
            "  gst-plugins-base   conda-forge/linux-64::gst-plugins-base-1.20.2-hcf0ee16_0\n",
            "  gstreamer          conda-forge/linux-64::gstreamer-1.20.2-hd4edc92_0\n",
            "  htslib             bioconda/linux-64::htslib-1.15.1-h9753748_0\n",
            "  icu                conda-forge/linux-64::icu-70.1-h27087fc_0\n",
            "  jack               conda-forge/linux-64::jack-1.9.18-hfd4fe87_1001\n",
            "  jbig               conda-forge/linux-64::jbig-2.1-h7f98852_2003\n",
            "  jpeg               conda-forge/linux-64::jpeg-9e-h166bdaf_1\n",
            "  json-c             conda-forge/linux-64::json-c-0.15-h98cffda_0\n",
            "  keyutils           conda-forge/linux-64::keyutils-1.6.1-h166bdaf_0\n",
            "  kiwisolver         conda-forge/linux-64::kiwisolver-1.4.2-py39hf939315_1\n",
            "  krb5               conda-forge/linux-64::krb5-1.19.3-h3790be6_0\n",
            "  lcms2              conda-forge/linux-64::lcms2-2.12-hddcbb42_0\n",
            "  ld_impl_linux-64   conda-forge/linux-64::ld_impl_linux-64-2.36.1-hea4e1c9_2\n",
            "  lerc               conda-forge/linux-64::lerc-3.0-h9c3ff4c_0\n",
            "  libblas            conda-forge/linux-64::libblas-3.9.0-14_linux64_openblas\n",
            "  libbrotlicommon    conda-forge/linux-64::libbrotlicommon-1.0.9-h166bdaf_7\n",
            "  libbrotlidec       conda-forge/linux-64::libbrotlidec-1.0.9-h166bdaf_7\n",
            "  libbrotlienc       conda-forge/linux-64::libbrotlienc-1.0.9-h166bdaf_7\n",
            "  libcap             conda-forge/linux-64::libcap-2.51-h166bdaf_1\n",
            "  libcblas           conda-forge/linux-64::libcblas-3.9.0-14_linux64_openblas\n",
            "  libclang           conda-forge/linux-64::libclang-14.0.3-default_h2e3cab8_0\n",
            "  libclang13         conda-forge/linux-64::libclang13-14.0.3-default_h3a83d3e_0\n",
            "  libcups            conda-forge/linux-64::libcups-2.3.3-hf5a7f15_1\n",
            "  libcurl            conda-forge/linux-64::libcurl-7.83.1-h7bff187_0\n",
            "  libdb              conda-forge/linux-64::libdb-6.2.32-h9c3ff4c_0\n",
            "  libdeflate         conda-forge/linux-64::libdeflate-1.10-h7f98852_0\n",
            "  libedit            conda-forge/linux-64::libedit-3.1.20191231-he28a2e2_2\n",
            "  libev              conda-forge/linux-64::libev-4.33-h516909a_1\n",
            "  libevent           conda-forge/linux-64::libevent-2.1.10-h9b69904_4\n",
            "  libffi             conda-forge/linux-64::libffi-3.4.2-h7f98852_5\n",
            "  libflac            conda-forge/linux-64::libflac-1.3.4-h27087fc_0\n",
            "  libgcc-ng          conda-forge/linux-64::libgcc-ng-12.1.0-h8d9b700_16\n",
            "  libgfortran-ng     conda-forge/linux-64::libgfortran-ng-12.1.0-h69a702a_16\n",
            "  libgfortran5       conda-forge/linux-64::libgfortran5-12.1.0-hdcd56e2_16\n",
            "  libglib            conda-forge/linux-64::libglib-2.70.2-h174f98d_4\n",
            "  libgomp            conda-forge/linux-64::libgomp-12.1.0-h8d9b700_16\n",
            "  libiconv           conda-forge/linux-64::libiconv-1.16-h516909a_0\n",
            "  liblapack          conda-forge/linux-64::liblapack-3.9.0-14_linux64_openblas\n",
            "  libllvm14          conda-forge/linux-64::libllvm14-14.0.3-he0ac6c6_0\n",
            "  libnghttp2         conda-forge/linux-64::libnghttp2-1.47.0-h727a467_0\n",
            "  libnsl             conda-forge/linux-64::libnsl-2.0.0-h7f98852_0\n",
            "  libogg             conda-forge/linux-64::libogg-1.3.4-h7f98852_1\n",
            "  libopenblas        conda-forge/linux-64::libopenblas-0.3.20-pthreads_h78a6416_0\n",
            "  libopus            conda-forge/linux-64::libopus-1.3.1-h7f98852_1\n",
            "  libpng             conda-forge/linux-64::libpng-1.6.37-h21135ba_2\n",
            "  libpq              conda-forge/linux-64::libpq-14.3-hd77ab85_0\n",
            "  libsndfile         conda-forge/linux-64::libsndfile-1.0.31-h9c3ff4c_1\n",
            "  libssh2            conda-forge/linux-64::libssh2-1.10.0-ha56f1ee_2\n",
            "  libstdcxx-ng       conda-forge/linux-64::libstdcxx-ng-12.1.0-ha89aaad_16\n",
            "  libtiff            conda-forge/linux-64::libtiff-4.3.0-h542a066_3\n",
            "  libtool            conda-forge/linux-64::libtool-2.4.6-h9c3ff4c_1008\n",
            "  libuuid            conda-forge/linux-64::libuuid-2.32.1-h7f98852_1000\n",
            "  libvorbis          conda-forge/linux-64::libvorbis-1.3.7-h9c3ff4c_0\n",
            "  libwebp            conda-forge/linux-64::libwebp-1.2.2-h3452ae3_0\n",
            "  libwebp-base       conda-forge/linux-64::libwebp-base-1.2.2-h7f98852_1\n",
            "  libxcb             conda-forge/linux-64::libxcb-1.13-h7f98852_1004\n",
            "  libxkbcommon       conda-forge/linux-64::libxkbcommon-1.0.3-he3ba5ed_0\n",
            "  libxml2            conda-forge/linux-64::libxml2-2.9.14-h22db469_0\n",
            "  libzlib            conda-forge/linux-64::libzlib-1.2.11-h166bdaf_1014\n",
            "  lz4-c              conda-forge/linux-64::lz4-c-1.9.3-h9c3ff4c_1\n",
            "  matplotlib         conda-forge/linux-64::matplotlib-3.5.2-py39hf3d152e_0\n",
            "  matplotlib-base    conda-forge/linux-64::matplotlib-base-3.5.2-py39h700656a_0\n",
            "  munkres            conda-forge/noarch::munkres-1.1.4-pyh9f0ad1d_0\n",
            "  mysql-common       conda-forge/linux-64::mysql-common-8.0.29-haf5c9bc_0\n",
            "  mysql-libs         conda-forge/linux-64::mysql-libs-8.0.29-h28c427c_0\n",
            "  ncurses            conda-forge/linux-64::ncurses-6.3-h27087fc_1\n",
            "  nspr               conda-forge/linux-64::nspr-4.32-h9c3ff4c_1\n",
            "  nss                conda-forge/linux-64::nss-3.77-h2350873_0\n",
            "  numpy              conda-forge/linux-64::numpy-1.22.3-py39hc58783e_2\n",
            "  openjpeg           conda-forge/linux-64::openjpeg-2.4.0-hb52868f_1\n",
            "  openssl            conda-forge/linux-64::openssl-1.1.1o-h166bdaf_0\n",
            "  packaging          conda-forge/noarch::packaging-21.3-pyhd8ed1ab_0\n",
            "  pandas             conda-forge/linux-64::pandas-1.4.2-py39h1832856_1\n",
            "  pcre               conda-forge/linux-64::pcre-8.45-h9c3ff4c_0\n",
            "  perl               conda-forge/linux-64::perl-5.32.1-2_h7f98852_perl5\n",
            "  pillow             conda-forge/linux-64::pillow-9.1.0-py39hae2aec6_2\n",
            "  pip                conda-forge/noarch::pip-22.1-pyhd8ed1ab_0\n",
            "  pthread-stubs      conda-forge/linux-64::pthread-stubs-0.4-h36c2ea0_1001\n",
            "  pulseaudio         conda-forge/linux-64::pulseaudio-14.0-hb166930_4\n",
            "  pyparsing          conda-forge/noarch::pyparsing-3.0.9-pyhd8ed1ab_0\n",
            "  pyqt               conda-forge/linux-64::pyqt-5.15.4-py39h5a03fae_0\n",
            "  pyqt5-sip          conda-forge/linux-64::pyqt5-sip-12.9.0-py39h5a03fae_0\n",
            "  pysam              bioconda/linux-64::pysam-0.19.0-py39h5030a8b_0\n",
            "  python             conda-forge/linux-64::python-3.9.12-h9a8a25e_1_cpython\n",
            "  python-dateutil    conda-forge/noarch::python-dateutil-2.8.2-pyhd8ed1ab_0\n",
            "  python_abi         conda-forge/linux-64::python_abi-3.9-2_cp39\n",
            "  pytz               conda-forge/noarch::pytz-2022.1-pyhd8ed1ab_0\n",
            "  qt-main            conda-forge/linux-64::qt-main-5.15.3-hf97cb25_1\n",
            "  readline           conda-forge/linux-64::readline-8.1-h46c0cb4_0\n",
            "  samtools           bioconda/linux-64::samtools-1.15.1-h1170115_0\n",
            "  scipy              conda-forge/linux-64::scipy-1.8.0-py39hee8e79c_1\n",
            "  setuptools         conda-forge/linux-64::setuptools-62.2.0-py39hf3d152e_0\n",
            "  sip                conda-forge/linux-64::sip-6.5.1-py39he80948d_2\n",
            "  six                conda-forge/noarch::six-1.16.0-pyh6c4a22f_0\n",
            "  sqlite             conda-forge/linux-64::sqlite-3.38.5-h4ff8645_0\n",
            "  star               bioconda/linux-64::star-2.7.10a-h9ee0642_0\n",
            "  tk                 conda-forge/linux-64::tk-8.6.12-h27826a3_0\n",
            "  toml               conda-forge/noarch::toml-0.10.2-pyhd8ed1ab_0\n",
            "  tornado            conda-forge/linux-64::tornado-6.1-py39hb9d737c_3\n",
            "  tzdata             conda-forge/noarch::tzdata-2022a-h191b570_0\n",
            "  unicodedata2       conda-forge/linux-64::unicodedata2-14.0.0-py39hb9d737c_1\n",
            "  wheel              conda-forge/noarch::wheel-0.37.1-pyhd8ed1ab_0\n",
            "  xorg-libxau        conda-forge/linux-64::xorg-libxau-1.0.9-h7f98852_0\n",
            "  xorg-libxdmcp      conda-forge/linux-64::xorg-libxdmcp-1.1.3-h7f98852_0\n",
            "  xz                 conda-forge/linux-64::xz-5.2.5-h516909a_1\n",
            "  zlib               conda-forge/linux-64::zlib-1.2.11-h166bdaf_1014\n",
            "  zstd               conda-forge/linux-64::zstd-1.5.2-ha95c52a_0\n",
            "\n",
            "\n",
            "\n",
            "Downloading and Extracting Packages\n",
            "fonts-conda-ecosyste | 4 KB      | : 100% 1.0/1 [00:00<00:00,  8.00it/s]\n",
            "libopus-1.3.1        | 255 KB    | : 100% 1.0/1 [00:00<00:00,  8.04it/s]\n",
            "libwebp-base-1.2.2   | 824 KB    | : 100% 1.0/1 [00:00<00:00,  4.14it/s]\n",
            "libevent-2.1.10      | 1.1 MB    | : 100% 1.0/1 [00:00<00:00,  2.45it/s]\n",
            "pip-22.1             | 1.6 MB    | : 100% 1.0/1 [00:00<00:00,  1.87it/s]\n",
            "font-ttf-source-code | 684 KB    | : 100% 1.0/1 [00:00<00:00,  5.08it/s]\n",
            "libnsl-2.0.0         | 31 KB     | : 100% 1.0/1 [00:00<00:00, 18.97it/s]\n",
            "pthread-stubs-0.4    | 5 KB      | : 100% 1.0/1 [00:00<00:00, 21.25it/s]\n",
            "gettext-0.19.8.1     | 3.6 MB    | : 100% 1.0/1 [00:01<00:00,  1.17s/it]               \n",
            "expat-2.4.8          | 187 KB    | : 100% 1.0/1 [00:00<00:00,  9.77it/s]\n",
            "icu-70.1             | 13.5 MB   | : 100% 1.0/1 [00:02<00:00,  2.68s/it]               \n",
            "pillow-9.1.0         | 45.0 MB   | : 100% 1.0/1 [00:07<00:00,  7.56s/it]               \n",
            "libzlib-1.2.11       | 60 KB     | : 100% 1.0/1 [00:00<00:00, 16.21it/s]\n",
            "certifi-2021.10.8    | 145 KB    | : 100% 1.0/1 [00:00<00:00, 15.96it/s]\n",
            "six-1.16.0           | 14 KB     | : 100% 1.0/1 [00:00<00:00, 12.95it/s]\n",
            "bwa-0.7.17           | 187 KB    | : 100% 1.0/1 [00:00<00:00, 13.65it/s]\n",
            "font-ttf-inconsolata | 94 KB     | : 100% 1.0/1 [00:00<00:00, 14.14it/s]\n",
            "toml-0.10.2          | 18 KB     | : 100% 1.0/1 [00:00<00:00, 20.37it/s]\n",
            "libffi-3.4.2         | 57 KB     | : 100% 1.0/1 [00:00<00:00, 10.96it/s]\n",
            "ncurses-6.3          | 1002 KB   | : 100% 1.0/1 [00:00<00:00,  1.73it/s]\n",
            "libpq-14.3           | 3.0 MB    | : 100% 1.0/1 [00:00<00:00,  1.03it/s]\n",
            "bzip2-1.0.8          | 484 KB    | : 100% 1.0/1 [00:00<00:00,  5.61it/s]\n",
            "nspr-4.32            | 233 KB    | : 100% 1.0/1 [00:00<00:00,  8.27it/s]\n",
            "libgfortran5-12.1.0  | 1.8 MB    | : 100% 1.0/1 [00:00<00:00,  2.02it/s]               \n",
            "sqlite-3.38.5        | 1.5 MB    | : 100% 1.0/1 [00:00<00:00,  2.97it/s]\n",
            "brotli-1.0.9         | 18 KB     | : 100% 1.0/1 [00:00<00:00, 19.24it/s]\n",
            "libwebp-1.2.2        | 85 KB     | : 100% 1.0/1 [00:00<00:00, 12.86it/s]\n",
            "ca-certificates-2021 | 139 KB    | : 100% 1.0/1 [00:00<00:00, 14.57it/s]\n",
            "fftw-3.3.10          | 6.4 MB    | : 100% 1.0/1 [00:01<00:00,  1.55s/it]\n",
            "numpy-1.22.3         | 6.8 MB    | : 100% 1.0/1 [00:02<00:00,  2.21s/it]              \n",
            "libiconv-1.16        | 1.4 MB    | : 100% 1.0/1 [00:00<00:00,  3.40it/s]\n",
            "bedtools-2.30.0      | 15.5 MB   | : 100% 1.0/1 [00:03<00:00,  3.63s/it]\n",
            "lcms2-2.12           | 443 KB    | : 100% 1.0/1 [00:00<00:00,  7.18it/s]\n",
            "matplotlib-3.5.2     | 6 KB      | : 100% 1.0/1 [00:00<00:00, 23.31it/s]\n",
            "libclang-14.0.3      | 127 KB    | : 100% 1.0/1 [00:00<00:00, 10.75it/s]\n",
            "pytz-2022.1          | 242 KB    | : 100% 1.0/1 [00:00<00:00,  5.83it/s]\n",
            "wheel-0.37.1         | 31 KB     | : 100% 1.0/1 [00:00<00:00, 16.27it/s]\n",
            "openjpeg-2.4.0       | 444 KB    | : 100% 1.0/1 [00:00<00:00,  5.01it/s]\n",
            "mysql-libs-8.0.29    | 1.9 MB    | : 100% 1.0/1 [00:00<00:00,  2.22it/s]\n",
            "libdeflate-1.10      | 77 KB     | : 100% 1.0/1 [00:00<00:00, 16.01it/s]\n",
            "fontconfig-2.14.0    | 305 KB    | : 100% 1.0/1 [00:00<00:00,  6.45it/s]\n",
            "font-ttf-dejavu-sans | 388 KB    | : 100% 1.0/1 [00:00<00:00,  7.01it/s]\n",
            "libgfortran-ng-12.1. | 23 KB     | : 100% 1.0/1 [00:00<00:00, 16.94it/s]\n",
            "kiwisolver-1.4.2     | 75 KB     | : 100% 1.0/1 [00:00<00:00, 16.91it/s]\n",
            "pcre-8.45            | 253 KB    | : 100% 1.0/1 [00:00<00:00,  8.23it/s]\n",
            "libcblas-3.9.0       | 12 KB     | : 100% 1.0/1 [00:00<00:00, 14.55it/s]\n",
            "mysql-common-8.0.29  | 1.8 MB    | : 100% 1.0/1 [00:00<00:00,  1.12it/s]\n",
            "krb5-1.19.3          | 1.4 MB    | : 100% 1.0/1 [00:00<00:00,  2.40it/s]\n",
            "xorg-libxdmcp-1.1.3  | 19 KB     | : 100% 1.0/1 [00:00<00:00, 23.26it/s]\n",
            "xorg-libxau-1.0.9    | 13 KB     | : 100% 1.0/1 [00:00<00:00, 19.04it/s]\n",
            "libxkbcommon-1.0.3   | 581 KB    | : 100% 1.0/1 [00:00<00:00,  6.44it/s]\n",
            "pyqt5-sip-12.9.0     | 84 KB     | : 100% 1.0/1 [00:00<00:00, 18.01it/s]\n",
            "openssl-1.1.1o       | 2.1 MB    | : 100% 1.0/1 [00:00<00:00,  2.09it/s]\n",
            "libstdcxx-ng-12.1.0  | 4.3 MB    | : 100% 1.0/1 [00:00<00:00,  1.14it/s]\n",
            "libpng-1.6.37        | 306 KB    | : 100% 1.0/1 [00:00<00:00,  6.30it/s]\n",
            "pyqt-5.15.4          | 6.2 MB    | : 100% 1.0/1 [00:01<00:00,  1.82s/it]               \n",
            "libcurl-7.83.1       | 342 KB    | : 100% 1.0/1 [00:00<00:00,  8.48it/s]\n",
            "python_abi-3.9       | 4 KB      | : 100% 1.0/1 [00:00<00:00, 17.57it/s]\n",
            "sip-6.5.1            | 389 KB    | : 100% 1.0/1 [00:00<00:00,  5.56it/s]\n",
            "libllvm14-14.0.3     | 35.2 MB   | : 100% 1.0/1 [00:08<00:00,  8.74s/it]\n",
            "qt-main-5.15.3       | 62.2 MB   | : 100% 1.0/1 [00:17<00:00, 17.72s/it]\n",
            "libssh2-1.10.0       | 233 KB    | : 100% 1.0/1 [00:00<00:00,  8.04it/s]\n",
            "fonts-conda-forge-1  | 4 KB      | : 100% 1.0/1 [00:00<00:00, 26.48it/s]\n",
            "libvorbis-1.3.7      | 280 KB    | : 100% 1.0/1 [00:00<00:00,  9.60it/s]\n",
            "libnghttp2-1.47.0    | 808 KB    | : 100% 1.0/1 [00:00<00:00,  3.89it/s]\n",
            "libopenblas-0.3.20   | 10.1 MB   | : 100% 1.0/1 [00:02<00:00,  2.41s/it]               \n",
            "libgomp-12.1.0       | 459 KB    | : 100% 1.0/1 [00:00<00:00,  6.01it/s]\n",
            "libuuid-2.32.1       | 28 KB     | : 100% 1.0/1 [00:00<00:00, 18.24it/s]\n",
            "libogg-1.3.4         | 206 KB    | : 100% 1.0/1 [00:00<00:00, 11.60it/s]\n",
            "munkres-1.1.4        | 12 KB     | : 100% 1.0/1 [00:00<00:00, 15.31it/s]\n",
            "unicodedata2-14.0.0  | 498 KB    | : 100% 1.0/1 [00:00<00:00,  6.42it/s]\n",
            "libflac-1.3.4        | 474 KB    | : 100% 1.0/1 [00:00<00:00,  6.86it/s]\n",
            "libcups-2.3.3        | 4.6 MB    | : 100% 1.0/1 [00:00<00:00,  1.03it/s]\n",
            "libbrotlicommon-1.0. | 65 KB     | : 100% 1.0/1 [00:00<00:00, 18.20it/s]\n",
            "dbus-1.13.6          | 604 KB    | : 100% 1.0/1 [00:00<00:00,  5.24it/s]\n",
            "biopython-1.79       | 2.6 MB    | : 100% 1.0/1 [00:01<00:00,  1.09s/it]\n",
            "cython-0.29.28       | 2.1 MB    | : 100% 1.0/1 [00:00<00:00,  1.20it/s]\n",
            "libsndfile-1.0.31    | 602 KB    | : 100% 1.0/1 [00:00<00:00,  4.38it/s]\n",
            "jbig-2.1             | 43 KB     | : 100% 1.0/1 [00:00<00:00, 16.82it/s]\n",
            "nss-3.77             | 2.1 MB    | : 100% 1.0/1 [00:00<00:00,  1.77it/s]\n",
            "zstd-1.5.2           | 458 KB    | : 100% 1.0/1 [00:00<00:00,  6.57it/s]\n",
            "matplotlib-base-3.5. | 7.3 MB    | : 100% 1.0/1 [00:02<00:00,  2.32s/it]               \n",
            "font-ttf-ubuntu-0.83 | 1.9 MB    | : 100% 1.0/1 [00:00<00:00,  2.04it/s]\n",
            "libcap-2.51          | 85 KB     | : 100% 1.0/1 [00:00<00:00, 15.48it/s]\n",
            "libxml2-2.9.14       | 770 KB    | : 100% 1.0/1 [00:00<00:00,  4.45it/s]\n",
            "python-dateutil-2.8. | 240 KB    | : 100% 1.0/1 [00:00<00:00, 11.76it/s]\n",
            "perl-5.32.1          | 14.4 MB   | : 100% 1.0/1 [00:05<00:00,  5.38s/it]               \n",
            "libclang13-14.0.3    | 10.6 MB   | : 100% 1.0/1 [00:03<00:00,  3.05s/it]\n",
            "_openmp_mutex-4.5    | 23 KB     | : 100% 1.0/1 [00:00<00:00, 11.98it/s]\n",
            "fonttools-4.33.3     | 1.6 MB    | : 100% 1.0/1 [00:00<00:00,  1.48it/s]\n",
            "pandas-1.4.2         | 12.5 MB   | : 100% 1.0/1 [00:04<00:00,  4.97s/it]\n",
            "samtools-1.15.1      | 393 KB    | : 100% 1.0/1 [00:00<00:00,  6.46it/s]\n",
            "libedit-3.1.20191231 | 121 KB    | : 100% 1.0/1 [00:00<00:00, 15.69it/s]\n",
            "tornado-6.1          | 649 KB    | : 100% 1.0/1 [00:00<00:00,  3.11it/s]\n",
            "xz-5.2.5             | 343 KB    | : 100% 1.0/1 [00:00<00:00,  5.89it/s]\n",
            "python-3.9.12        | 26.7 MB   | : 100% 1.0/1 [00:07<00:00,  7.11s/it]               \n",
            "lerc-3.0             | 216 KB    | : 100% 1.0/1 [00:00<00:00,  7.58it/s]\n",
            "ld_impl_linux-64-2.3 | 667 KB    | : 100% 1.0/1 [00:00<00:00,  4.16it/s]\n",
            "libtool-2.4.6        | 511 KB    | : 100% 1.0/1 [00:00<00:00,  3.98it/s]\n",
            "libtiff-4.3.0        | 638 KB    | : 100% 1.0/1 [00:00<00:00,  4.91it/s]\n",
            "scipy-1.8.0          | 25.4 MB   | : 100% 1.0/1 [00:06<00:00,  6.21s/it]               \n",
            "gstreamer-1.20.2     | 2.0 MB    | : 100% 1.0/1 [00:00<00:00,  1.37it/s]\n",
            "alsa-lib-1.2.3.2     | 554 KB    | : 100% 1.0/1 [00:00<00:00,  4.07it/s]               \n",
            "pysam-0.19.0         | 2.7 MB    | : 100% 1.0/1 [00:00<00:00,  1.59it/s]\n",
            "star-2.7.10a         | 4.9 MB    | : 100% 1.0/1 [00:01<00:00,  1.21s/it]\n",
            "htslib-1.15.1        | 2.1 MB    | : 100% 1.0/1 [00:00<00:00,  1.77it/s]\n",
            "libglib-2.70.2       | 3.1 MB    | : 100% 1.0/1 [00:01<00:00,  1.08s/it]               \n",
            "gst-plugins-base-1.2 | 2.8 MB    | : 100% 1.0/1 [00:00<00:00,  1.09it/s]\n",
            "packaging-21.3       | 36 KB     | : 100% 1.0/1 [00:00<00:00, 18.76it/s]\n",
            "jpeg-9e              | 268 KB    | : 100% 1.0/1 [00:00<00:00,  7.56it/s]\n",
            "attr-2.5.1           | 69 KB     | : 100% 1.0/1 [00:00<00:00, 12.12it/s]\n",
            "freetype-2.10.4      | 890 KB    | : 100% 1.0/1 [00:00<00:00,  3.67it/s]\n",
            "readline-8.1         | 295 KB    | : 100% 1.0/1 [00:00<00:00,  8.09it/s]\n",
            "zlib-1.2.11          | 88 KB     | : 100% 1.0/1 [00:00<00:00,  9.16it/s]\n",
            "lz4-c-1.9.3          | 179 KB    | : 100% 1.0/1 [00:00<00:00,  9.04it/s]\n",
            "libbrotlidec-1.0.9   | 33 KB     | : 100% 1.0/1 [00:00<00:00, 20.45it/s]\n",
            "libbrotlienc-1.0.9   | 287 KB    | : 100% 1.0/1 [00:00<00:00, 11.92it/s]\n",
            "c-ares-1.18.1        | 113 KB    | : 100% 1.0/1 [00:00<00:00, 10.67it/s]\n",
            "giflib-5.2.1         | 77 KB     | : 100% 1.0/1 [00:00<00:00, 13.81it/s]\n",
            "tk-8.6.12            | 3.3 MB    | : 100% 1.0/1 [00:00<00:00,  1.07it/s]\n",
            "libblas-3.9.0        | 12 KB     | : 100% 1.0/1 [00:00<00:00, 22.37it/s]\n",
            "brotli-bin-1.0.9     | 19 KB     | : 100% 1.0/1 [00:00<00:00, 22.51it/s]\n",
            "setuptools-62.2.0    | 1.2 MB    | : 100% 1.0/1 [00:00<00:00,  1.90it/s]\n",
            "keyutils-1.6.1       | 115 KB    | : 100% 1.0/1 [00:00<00:00, 13.73it/s]\n",
            "jack-1.9.18          | 640 KB    | : 100% 1.0/1 [00:00<00:00,  4.88it/s]\n",
            "cycler-0.11.0        | 10 KB     | : 100% 1.0/1 [00:00<00:00, 25.25it/s]\n",
            "json-c-0.15          | 274 KB    | : 100% 1.0/1 [00:00<00:00, 10.81it/s]\n",
            "liblapack-3.9.0      | 12 KB     | : 100% 1.0/1 [00:00<00:00, 19.59it/s]\n",
            "libgcc-ng-12.1.0     | 940 KB    | : 100% 1.0/1 [00:00<00:00,  4.67it/s]\n",
            "libdb-6.2.32         | 23.3 MB   | : 100% 1.0/1 [00:08<00:00,  8.79s/it]               \n",
            "pyparsing-3.0.9      | 79 KB     | : 100% 1.0/1 [00:00<00:00, 14.33it/s]\n",
            "pulseaudio-14.0      | 1.6 MB    | : 100% 1.0/1 [00:00<00:00,  1.53it/s]\n",
            "tzdata-2022a         | 121 KB    | : 100% 1.0/1 [00:00<00:00,  6.57it/s]\n",
            "libxcb-1.13          | 391 KB    | : 100% 1.0/1 [00:00<00:00,  5.23it/s]\n",
            "libev-4.33           | 104 KB    | : 100% 1.0/1 [00:00<00:00, 14.14it/s]\n",
            "_libgcc_mutex-0.1    | 3 KB      | : 100% 1.0/1 [00:00<00:00, 20.94it/s]\n",
            "Preparing transaction: / \b\b- \b\b\\ \b\b| \b\b/ \b\b- \b\b\\ \b\b| \b\b/ \b\b- \b\b\\ \b\b| \b\b/ \b\b- \b\b\\ \b\b| \b\bdone\n",
            "Verifying transaction: - \b\b\\ \b\b| \b\b/ \b\b- \b\b\\ \b\b| \b\b/ \b\b- \b\b\\ \b\b| \b\b/ \b\b- \b\b\\ \b\b| \b\b/ \b\b- \b\b\\ \b\b| \b\b/ \b\b- \b\b\\ \b\b| \b\b/ \b\b- \b\b\\ \b\b| \b\b/ \b\b- \b\b\\ \b\b| \b\b/ \b\b- \b\b\\ \b\b| \b\b/ \b\b- \b\b\\ \b\b| \b\b/ \b\b- \b\b\\ \b\b| \b\b/ \b\b- \b\b\\ \b\b| \b\b/ \b\b- \b\b\\ \b\b| \b\b/ \b\b- \b\b\\ \b\b| \b\b/ \b\b- \b\b\\ \b\b| \b\b/ \b\b- \b\b\\ \b\b| \b\b/ \b\b- \b\b\\ \b\b| \b\b/ \b\b- \b\b\\ \b\b| \b\b/ \b\bdone\n",
            "Executing transaction: \\ \b\b| \b\b/ \b\b- \b\b\\ \b\b| \b\b/ \b\b- \b\b\\ \b\b| \b\b/ \b\b- \b\b\\ \b\b| \b\b/ \b\b- \b\b\\ \b\b| \b\b/ \b\b- \b\b\\ \b\b| \b\b/ \b\b- \b\b\\ \b\b| \b\b/ \b\b- \b\b\\ \b\b| \b\b/ \b\b- \b\b\\ \b\b| \b\b/ \b\b- \b\b\\ \b\b| \b\b/ \b\b- \b\b\\ \b\b| \b\b/ \b\b- \b\b\\ \b\b| \b\b/ \b\b- \b\b\\ \b\b| \b\b/ \b\b- \b\b\\ \b\b| \b\b/ \b\b- \b\b\\ \b\b| \b\b/ \b\b- \b\b\\ \b\b| \b\bdone\n",
            "#\n",
            "# To activate this environment, use\n",
            "#\n",
            "#     $ conda activate lab\n",
            "#\n",
            "# To deactivate an active environment, use\n",
            "#\n",
            "#     $ conda deactivate\n",
            "\n",
            "Activated conda environment `lab'!\n"
          ]
        }
      ]
    },
    {
      "cell_type": "markdown",
      "metadata": {
        "id": "3Sabp7OAMuHb"
      },
      "source": [
        "설정이 끝났으면, 이제 콘솔을 열어서 터미널로 접속할 수 있는 통로를 열어줍니다."
      ]
    },
    {
      "cell_type": "markdown",
      "metadata": {
        "id": "z6RiPiSRMuHb"
      },
      "source": [
        "## 시퀀싱 데이터 다운로드\n",
        "이제 실습 수업에서 필요한 시퀀싱 데이터를 다운로드 받아서 설치합시다. 드라이브 공간만 충분하면 데이터는 계속 저장돼 있기 때문에 학기 전체를 통해서 딱 한 번만 하시면 됩니다. Colab에서는 작업용 데이터를 Google Drive 폴더 아래의 `binfo-datapack1`에 저장합니다. 실습용 데이터는 `/content/drive/MyDrive/binfo1-datapack1`에 풀리게 됩니다.\n",
        "\n",
        "### (Option 1) Google CoLab에서 접속한 경우\n",
        "1. [Google Drive 공유폴더](https://drive.google.com/drive/folders/1Y190lbO42VEzjjQkgoxNf_EcZJlHyZa1?usp=sharing)에 접속합니다.\n",
        "1. 중간 제목줄의 \"binfo1-datapack1 ▾\"에서 ▾을 누릅니다.\n",
        "1. Add shortcut to Drive를 누릅니다.\n",
        "1. My Drive를 선택해서 ADD SHORTCUT 버튼을 누릅니다.\n",
        "1. 다음 cell을 실행해서 링크가 제대로 들어왔는지 확인합니다. (바로 확인되지 않으면 3–5분 정도 기다렸다가 하면 됩니다.)\n",
        "1. 제대로 확인되면 다음으로 넘어갑니다.\n"
      ]
    },
    {
      "cell_type": "code",
      "source": [
        "!ls -al /content/drive/MyDrive/binfo1-datapack1/"
      ],
      "metadata": {
        "id": "D24wKYriG8tI",
        "colab": {
          "base_uri": "https://localhost:8080/"
        },
        "outputId": "90fb20e2-df80-4721-d0ef-488e4293dc8e"
      },
      "execution_count": null,
      "outputs": [
        {
          "output_type": "stream",
          "name": "stdout",
          "text": [
            "total 7157663\n",
            "-rw------- 1 root root 1370036258 May  4 06:24 CLIP-35L33G.bam\n",
            "-rw------- 1 root root    3118336 May  4 06:24 CLIP-35L33G.bam.bai\n",
            "-rw------- 1 root root  883334756 May  4 07:58 gencode.gtf\n",
            "-rw------- 1 root root   24065406 May  4 08:02 read-counts.txt\n",
            "-rw------- 1 root root        751 May  4 08:02 read-counts.txt.summary\n",
            "-rw------- 1 root root 1003658801 May  4 07:43 RNA-control.bam\n",
            "-rw------- 1 root root    2276104 May  6  2021 RNA-control.bam.bai\n",
            "-rw------- 1 root root 1260991122 May  4 07:27 RNA-siLin28a.bam\n",
            "-rw------- 1 root root    2710744 May  4 07:39 RNA-siLin28a.bam.bai\n",
            "-rw------- 1 root root  981684502 May  5  2021 RNA-siLuc.bam\n",
            "-rw------- 1 root root  737352902 May  4 07:39 RPF-siLin28a.bam\n",
            "-rw------- 1 root root    2482768 May  4 07:36 RPF-siLin28a.bam.bai\n",
            "-rw------- 1 root root 1055123479 May  4 07:30 RPF-siLuc.bam\n",
            "-rw------- 1 root root    2605912 May  4 07:27 RPF-siLuc.bam.bai\n"
          ]
        }
      ]
    },
    {
      "cell_type": "markdown",
      "source": [
        "### (Option 2) CoLab외의 다른 환경에서 접속한 경우\n",
        "본인 컴퓨터나 연구실 워크스테이션 등에서 작업하는 경우에는 다음 명령어로 다운로드 받으시면 됩니다. 첫 번째에는 wget이 접속오류를 내는 경우가 많으니, 접속에러가 발생하면 다시 한 번 실행해 보세요. `/content/drive/Mydrive` 부분은 원하는 저장 경로로 바꿔서 지정하시면 됩니다."
      ],
      "metadata": {
        "id": "OZ0KkKrmG-M4"
      }
    },
    {
      "cell_type": "code",
      "metadata": {
        "id": "LnLWxOljMuHb"
      },
      "source": [
        "!wget -O - --no-check-certificate https://hyeshik.qbio.io/binfo/binfo1-datapack1.tar | tar -C /content/drive/MyDrive -xf -"
      ],
      "execution_count": null,
      "outputs": []
    },
    {
      "cell_type": "markdown",
      "metadata": {
        "id": "jfQRBt3eMuHc"
      },
      "source": [
        "그리고, GENCODE Annotation 데이터도 미리 받아서 저장해 둡니다. 에러가 나면 다시 한 번 실행해 봅니다."
      ]
    },
    {
      "cell_type": "code",
      "metadata": {
        "id": "o3vbErniMuHc"
      },
      "source": [
        "!wget --no-check-certificate -O /content/drive/MyDrive/binfo1-datapack1/gencode.gtf.gz http://ftp.ebi.ac.uk/pub/databases/gencode/Gencode_mouse/release_M27/gencode.vM27.annotation.gtf.gz"
      ],
      "execution_count": null,
      "outputs": []
    },
    {
      "cell_type": "markdown",
      "metadata": {
        "id": "cEsuYjeoMuHc"
      },
      "source": [
        "다루기 쉽도록 Annotation 압축을 풉니다."
      ]
    },
    {
      "cell_type": "code",
      "metadata": {
        "id": "47_i6FbYMuHc"
      },
      "source": [
        "!gunzip /content/drive/MyDrive/binfo1-datapack1/gencode.gtf.gz"
      ],
      "execution_count": null,
      "outputs": []
    },
    {
      "cell_type": "markdown",
      "metadata": {
        "id": "LRmsio_KMuHc"
      },
      "source": [
        "### 파일 체크섬 확인\n",
        "\n",
        "받은 데이터의 MD5 체크섬을 확인합니다. 한참 걸립니다. 각 파일들의 원래 체크섬은 다음과 같습니다. 한 번 비교해 보세요.\n",
        "\n",
        "```\n",
        "140aaf30bcb9276cc716f8699f04ddd6  CLIP-35L33G.bam\n",
        "f1b3336ed7e2f97d562dcc71641251bd  CLIP-35L33G.bam.bai\n",
        "328883a73d507eafbf5b60bd6b906201  RNA-control.bam\n",
        "02073818e2f398a73c3b76e5169de1ca  RNA-control.bam.bai\n",
        "b09550d09d6c2a4ce27f0226f426fdb1  RNA-siLin28a.bam\n",
        "fef112c727244060ea62d3f2564a07f6  RNA-siLin28a.bam.bai\n",
        "28bbd0c47d725669340c784f1b772c01  RNA-siLuc.bam\n",
        "43590fdc4d81905c0432e0d1cb8cfd5b  RNA-siLuc.bam.bai\n",
        "5c08a9297307bc83259e658c4474f0cc  RPF-siLin28a.bam\n",
        "a1bb3e29be412dfd7fd8d16b1b1acc4c  RPF-siLin28a.bam.bai\n",
        "f2eebf50943024d0116c9cd3e744c707  RPF-siLuc.bam\n",
        "dc24f69e8f571fc8be30f28ce5b84fcd  RPF-siLuc.bam.bai\n",
        "```"
      ]
    },
    {
      "cell_type": "code",
      "metadata": {
        "id": "g8lC_YJRBCPf",
        "colab": {
          "base_uri": "https://localhost:8080/"
        },
        "outputId": "d08b07e7-c123-4aac-d8a4-da20da7dbafb"
      },
      "source": [
        "!md5sum drive/MyDrive/binfo1-datapack1/*"
      ],
      "execution_count": null,
      "outputs": [
        {
          "output_type": "stream",
          "name": "stdout",
          "text": [
            "140aaf30bcb9276cc716f8699f04ddd6  drive/MyDrive/binfo1-datapack1/CLIP-35L33G.bam\n",
            "f1b3336ed7e2f97d562dcc71641251bd  drive/MyDrive/binfo1-datapack1/CLIP-35L33G.bam.bai\n",
            "d54d428f5872030c4ffc43058709b896  drive/MyDrive/binfo1-datapack1/gencode.gtf\n",
            "f691d94ca9c72e6feedbfe4561dd5b83  drive/MyDrive/binfo1-datapack1/read-counts.txt\n",
            "7c9528c08ed2f1ae6e2de599db1aa8fb  drive/MyDrive/binfo1-datapack1/read-counts.txt.summary\n",
            "328883a73d507eafbf5b60bd6b906201  drive/MyDrive/binfo1-datapack1/RNA-control.bam\n",
            "02073818e2f398a73c3b76e5169de1ca  drive/MyDrive/binfo1-datapack1/RNA-control.bam.bai\n",
            "b09550d09d6c2a4ce27f0226f426fdb1  drive/MyDrive/binfo1-datapack1/RNA-siLin28a.bam\n",
            "fef112c727244060ea62d3f2564a07f6  drive/MyDrive/binfo1-datapack1/RNA-siLin28a.bam.bai\n",
            "28bbd0c47d725669340c784f1b772c01  drive/MyDrive/binfo1-datapack1/RNA-siLuc.bam\n",
            "5c08a9297307bc83259e658c4474f0cc  drive/MyDrive/binfo1-datapack1/RPF-siLin28a.bam\n",
            "a1bb3e29be412dfd7fd8d16b1b1acc4c  drive/MyDrive/binfo1-datapack1/RPF-siLin28a.bam.bai\n",
            "f2eebf50943024d0116c9cd3e744c707  drive/MyDrive/binfo1-datapack1/RPF-siLuc.bam\n",
            "dc24f69e8f571fc8be30f28ce5b84fcd  drive/MyDrive/binfo1-datapack1/RPF-siLuc.bam.bai\n"
          ]
        }
      ]
    },
    {
      "cell_type": "code",
      "metadata": {
        "id": "PVXzIs5FE3Q4",
        "colab": {
          "base_uri": "https://localhost:8080/"
        },
        "outputId": "f7ffc49a-7088-4485-a1e0-fee1c4694361"
      },
      "source": [
        "!ls -al drive/MyDrive/binfo*"
      ],
      "execution_count": null,
      "outputs": [
        {
          "output_type": "stream",
          "name": "stdout",
          "text": [
            "total 7157663\n",
            "-rw------- 1 root root 1370036258 May  4 06:24 CLIP-35L33G.bam\n",
            "-rw------- 1 root root    3118336 May  4 06:24 CLIP-35L33G.bam.bai\n",
            "-rw------- 1 root root  883334756 May  4 07:58 gencode.gtf\n",
            "-rw------- 1 root root   24065406 May  4 08:02 read-counts.txt\n",
            "-rw------- 1 root root        751 May  4 08:02 read-counts.txt.summary\n",
            "-rw------- 1 root root 1003658801 May  4 07:43 RNA-control.bam\n",
            "-rw------- 1 root root    2276104 May  6  2021 RNA-control.bam.bai\n",
            "-rw------- 1 root root 1260991122 May  4 07:27 RNA-siLin28a.bam\n",
            "-rw------- 1 root root    2710744 May  4 07:39 RNA-siLin28a.bam.bai\n",
            "-rw------- 1 root root  981684502 May  5  2021 RNA-siLuc.bam\n",
            "-rw------- 1 root root  737352902 May  4 07:39 RPF-siLin28a.bam\n",
            "-rw------- 1 root root    2482768 May  4 07:36 RPF-siLin28a.bam.bai\n",
            "-rw------- 1 root root 1055123479 May  4 07:30 RPF-siLuc.bam\n",
            "-rw------- 1 root root    2605912 May  4 07:27 RPF-siLuc.bam.bai\n"
          ]
        }
      ]
    },
    {
      "cell_type": "markdown",
      "metadata": {
        "id": "ecEA1PPQUlIK"
      },
      "source": [
        "실습에 필요한 프로그램들 몇 가지를 추가로 설치합니다."
      ]
    },
    {
      "cell_type": "code",
      "metadata": {
        "id": "neteyWsWEKBy",
        "colab": {
          "base_uri": "https://localhost:8080/"
        },
        "outputId": "7d24c5f1-6c91-498e-bb75-630188361c15"
      },
      "source": [
        "!conda install -y bedtools bioawk"
      ],
      "execution_count": 3,
      "outputs": [
        {
          "output_type": "stream",
          "name": "stdout",
          "text": [
            "Collecting package metadata (current_repodata.json): - \b\b\\ \b\b| \b\b/ \b\b- \b\b\\ \b\b| \b\b/ \b\b- \b\b\\ \b\b| \b\b/ \b\b- \b\b\\ \b\b| \b\b/ \b\b- \b\b\\ \b\b| \b\b/ \b\b- \b\b\\ \b\b| \b\b/ \b\b- \b\b\\ \b\b| \b\b/ \b\b- \b\b\\ \b\b| \b\bdone\n",
            "Solving environment: - \b\b\\ \b\b| \b\b/ \b\b- \b\b\\ \b\b| \b\b/ \b\b- \b\b\\ \b\b| \b\b/ \b\b- \b\b\\ \b\b| \b\b/ \b\b- \b\b\\ \b\b| \b\b/ \b\b- \b\b\\ \b\b| \b\b/ \b\b- \b\b\\ \b\b| \b\b/ \b\bdone\n",
            "\n",
            "\n",
            "==> WARNING: A newer version of conda exists. <==\n",
            "  current version: 4.11.0\n",
            "  latest version: 4.12.0\n",
            "\n",
            "Please update conda by running\n",
            "\n",
            "    $ conda update -n base -c defaults conda\n",
            "\n",
            "\n",
            "\n",
            "## Package Plan ##\n",
            "\n",
            "  environment location: /root/conda/envs/lab\n",
            "\n",
            "  added / updated specs:\n",
            "    - bedtools\n",
            "    - bioawk\n",
            "\n",
            "\n",
            "The following packages will be downloaded:\n",
            "\n",
            "    package                    |            build\n",
            "    ---------------------------|-----------------\n",
            "    bioawk-1.0                 |       h7132678_7         196 KB  bioconda\n",
            "    ------------------------------------------------------------\n",
            "                                           Total:         196 KB\n",
            "\n",
            "The following NEW packages will be INSTALLED:\n",
            "\n",
            "  bioawk             bioconda/linux-64::bioawk-1.0-h7132678_7\n",
            "\n",
            "\n",
            "\n",
            "Downloading and Extracting Packages\n",
            "bioawk-1.0           | 196 KB    | : 100% 1.0/1 [00:00<00:00,  4.13it/s]                \n",
            "Preparing transaction: \\ \b\bdone\n",
            "Verifying transaction: / \b\bdone\n",
            "Executing transaction: \\ \b\bdone\n"
          ]
        }
      ]
    },
    {
      "cell_type": "markdown",
      "metadata": {
        "id": "Oe_54MZrEi4y"
      },
      "source": [
        "## Mission 2\n",
        "\n",
        "이번 미션에서는 start codon 주변에서 ribosome-protected fragment의 분포를 한 번 살펴보겠습니다. 보통은 RPF의 5'-end 분포가 start codon 앞 15nt 정도에서부터 본격적으로 많이 나오고, 거기서부터 CDS를 걸쳐서 3nt 주기로 올록볼록한 패턴이 나타납니다.\n",
        "\n",
        "이 그림을 제대로 그리려면 genome coordinate를 start codon을 기준으로 변환해서 작업해야 하지만, 이번 미션에서는 난이도를 적절히 내리기 위해서 start codon이 포함된 exon에 존재하는 5' end만 추려서 작업하도록 합시다. (여유가 좀 있어서 난이도를 적당히 올리고 싶은 분들은 negative strand를 포함할 수도 있고, start codon과 다른 exon에 있는 경우를 포함할 수도 있습니다. 또한 APPRIS 등을 기반으로 해서 transcript 중에 가장 )"
      ]
    },
    {
      "cell_type": "code",
      "metadata": {
        "id": "IANz6DmLUkA6",
        "colab": {
          "base_uri": "https://localhost:8080/"
        },
        "outputId": "86434d74-2cef-4fe5-839f-d72d576e2341"
      },
      "source": [
        "%cd /content/drive/MyDrive/binfo1-datapack1/"
      ],
      "execution_count": 4,
      "outputs": [
        {
          "output_type": "stream",
          "name": "stdout",
          "text": [
            "/content/drive/MyDrive/binfo1-datapack1\n"
          ]
        }
      ]
    },
    {
      "cell_type": "markdown",
      "metadata": {
        "id": "68uh7WVkUjhr"
      },
      "source": [
        "우선 annotation에서 start codon이 포함된 exon만 추립니다. Gene 한 개에 isoform이 여러 개 있는 경우 모두 쓰면 read가 너무 부풀려질 수 있기 때문에 우선 transcript support level이 1인 것만 추려서 사용합니다. 여전히 TSL 1만 쓰더라도 부풀려질 가능성은 있기 때문에 제대로 하자면 APPRIS나 RNA-seq 데이터 기준으로 하나만 선정하는 것이 좋습니다만, 일단 여기서는 간단히..\n",
        "\n",
        "그리고, - strand가 들어가면 좀 계산이 복잡해지니까 또 간단하게 하기 위해서 + strand만 고릅니다. 이번엔 일단 무조건 간단하게 해 봅시다~"
      ]
    },
    {
      "cell_type": "code",
      "metadata": {
        "id": "vvFgM8hJUzDx",
        "colab": {
          "base_uri": "https://localhost:8080/"
        },
        "outputId": "8f3764ae-e53b-474b-dc53-d17be07563e8"
      },
      "source": [
        "!grep '\tstart_codon\t.*\t+\t.*transcript_support_level \"1\"' gencode.gtf | \\\n",
        " sed -e 's/\t[^\t]*transcript_id \"\\([^\"]*\\)\".*$/\t\\1/g' > gencode-start.gtf\n",
        "!head gencode-start.gtf"
      ],
      "execution_count": 5,
      "outputs": [
        {
          "output_type": "stream",
          "name": "stdout",
          "text": [
            "chr1\tHAVANA\tstart_codon\t4878137\t4878139\t.\t+\t0\tENSMUST00000134384.8\n",
            "chr1\tHAVANA\tstart_codon\t4878137\t4878139\t.\t+\t0\tENSMUST00000027036.11\n",
            "chr1\tHAVANA\tstart_codon\t4878137\t4878139\t.\t+\t0\tENSMUST00000150971.8\n",
            "chr1\tHAVANA\tstart_codon\t4928137\t4928139\t.\t+\t0\tENSMUST00000081551.14\n",
            "chr1\tHAVANA\tstart_codon\t5154674\t5154676\t.\t+\t0\tENSMUST00000044369.13\n",
            "chr1\tHAVANA\tstart_codon\t5659272\t5659274\t.\t+\t0\tENSMUST00000160777.8\n",
            "chr1\tHAVANA\tstart_codon\t5659272\t5659274\t.\t+\t0\tENSMUST00000027038.11\n",
            "chr1\tHAVANA\tstart_codon\t6300227\t6300229\t.\t+\t0\tENSMUST00000027040.13\n",
            "chr1\tHAVANA\tstart_codon\t6429555\t6429557\t.\t+\t0\tENSMUST00000133144.4\n",
            "chr1\tHAVANA\tstart_codon\t6839122\t6839124\t.\t+\t0\tENSMUST00000140079.8\n"
          ]
        }
      ]
    },
    {
      "cell_type": "markdown",
      "metadata": {
        "id": "iWvIeTYOWsR6"
      },
      "source": [
        "start codon가 들어가 있는 exon들을 고르기 위해서 미리 + strand에 있는 exon를 추립니다.. start codon 쪽에서 TSL 기준으로 골랐기 때문에 여기서는 고르지 않아도 됩니다. 물론 좀 느려지기는 하지만..."
      ]
    },
    {
      "cell_type": "code",
      "metadata": {
        "id": "yCqK2wyYWitn",
        "colab": {
          "base_uri": "https://localhost:8080/"
        },
        "outputId": "d4657a41-c226-4c5e-e3f8-a69a24e9d3d4"
      },
      "source": [
        "!grep '\texon\t.*\t+\t' gencode.gtf | \\\n",
        " sed -e 's/\t[^\t]*transcript_id \"\\([^\"]*\\)\".*$/\t\\1/g' > gencode-plusexon.gtf\n",
        "!head gencode-plusexon.gtf"
      ],
      "execution_count": 6,
      "outputs": [
        {
          "output_type": "stream",
          "name": "stdout",
          "text": [
            "chr1\tHAVANA\texon\t3143476\t3144545\t.\t+\t.\tENSMUST00000193812.2\n",
            "chr1\tENSEMBL\texon\t3172239\t3172348\t.\t+\t.\tENSMUST00000082908.3\n",
            "chr1\tHAVANA\texon\t3322980\t3323459\t.\t+\t.\tENSMUST00000192857.2\n",
            "chr1\tHAVANA\texon\t3536810\t3536910\t.\t+\t.\tENSMUST00000161581.2\n",
            "chr1\tHAVANA\texon\t3583628\t3583776\t.\t+\t.\tENSMUST00000161581.2\n",
            "chr1\tHAVANA\texon\t3602018\t3602943\t.\t+\t.\tENSMUST00000192183.2\n",
            "chr1\tHAVANA\texon\t3750378\t3752011\t.\t+\t.\tENSMUST00000193244.2\n",
            "chr1\tHAVANA\texon\t3822233\t3824583\t.\t+\t.\tENSMUST00000194454.2\n",
            "chr1\tHAVANA\texon\t4566774\t4569601\t.\t+\t.\tENSMUST00000193450.2\n",
            "chr1\tHAVANA\texon\t4567697\t4567877\t.\t+\t.\tENSMUST00000194935.2\n"
          ]
        }
      ]
    },
    {
      "cell_type": "markdown",
      "metadata": {
        "id": "suULe5k6Yelf"
      },
      "source": [
        "그 다음엔 exon 리스트와 start codon 리스트를 겹치고, transcript가 같은 것만 살려둡니다. 기왕 좀 다루기 쉽도록 출력은 bed로 하면서 좌표계를 바꿉니다. 결과는 bedtools에서 빠르게 다룰 수 있게 sort해 둡니다."
      ]
    },
    {
      "cell_type": "code",
      "metadata": {
        "id": "Zsv2_w5OXU9c",
        "colab": {
          "base_uri": "https://localhost:8080/"
        },
        "outputId": "0e8de775-b2e6-405f-e550-142bdb858957"
      },
      "source": [
        "!bedtools intersect -a gencode-start.gtf -b gencode-plusexon.gtf -wa -wb | \\\n",
        " awk -F'\t' -v OFS='\t' '$9 == $18 { print $10, $13-1, $14, $18, $4-1, $16; }' | \\\n",
        " sort -k1,1 -k2,3n -k4,4 > gencode-exons-containing-startcodon.bed\n",
        "!head gencode-exons-containing-startcodon.bed; tail gencode-exons-containing-startcodon.bed"
      ],
      "execution_count": 7,
      "outputs": [
        {
          "output_type": "stream",
          "name": "stdout",
          "text": [
            "chr1\t4878010\t4878205\tENSMUST00000134384.8\t4878136\t+\n",
            "chr1\t4878045\t4878205\tENSMUST00000027036.11\t4878136\t+\n",
            "chr1\t4878052\t4878205\tENSMUST00000150971.8\t4878136\t+\n",
            "chr1\t4928036\t4928199\tENSMUST00000081551.14\t4928136\t+\n",
            "chr1\t5154639\t5154786\tENSMUST00000044369.13\t5154673\t+\n",
            "chr1\t5659227\t5659528\tENSMUST00000027038.11\t5659271\t+\n",
            "chr1\t5659257\t5659528\tENSMUST00000160777.8\t5659271\t+\n",
            "chr1\t6300182\t6300297\tENSMUST00000027040.13\t6300226\t+\n",
            "chr1\t6429441\t6429738\tENSMUST00000133144.4\t6429554\t+\n",
            "chr1\t6839121\t6839176\tENSMUST00000043578.13\t6839121\t+\n",
            "chrY\t80939672\t80939804\tENSMUST00000185340.2\t80939686\t+\n",
            "chrY\t81470683\t81470815\tENSMUST00000187135.2\t81470697\t+\n",
            "chrY\t82237903\t82238035\tENSMUST00000185636.2\t82237917\t+\n",
            "chrY\t83043623\t83043755\tENSMUST00000187165.2\t83043637\t+\n",
            "chrY\t84109956\t84110088\tENSMUST00000185776.7\t84109970\t+\n",
            "chrY\t84759361\t84759493\tENSMUST00000186110.2\t84759375\t+\n",
            "chrY\t86074448\t86074580\tENSMUST00000188754.2\t86074462\t+\n",
            "chrY\t87129500\t87129632\tENSMUST00000189543.7\t87129514\t+\n",
            "chrY\t87563647\t87563779\tENSMUST00000186493.2\t87563661\t+\n",
            "chrY\t88065992\t88066124\tENSMUST00000187146.2\t88066006\t+\n"
          ]
        }
      ]
    },
    {
      "cell_type": "markdown",
      "metadata": {
        "id": "KvPNCpbtaYnC"
      },
      "source": [
        "컬럼 4번에 transcript id, 5번에 start codon 위치를 넣었는데, start codon이 같은 것들이 여러개 눈에 띕니다. 아주 찝찝하지만, 우선 이번은 간단하게 할 것이기 때문에 눈을 질끈 감고 넘어가 봅시다.\n",
        "\n",
        "이제 alignment를 준비합니다. + strand alignment에서 read length가 짧은 것도 미리 필터링 합니다. RPF는 보통 25nt 이상이기 때문에 그 이하는 거의 확실히 rRNA, tRNA 등에서 오염된 것들입니다. SAM 파일 전체를 필터링해서 다시 인코딩하기 때문에 시간이 좀 걸립니다."
      ]
    },
    {
      "cell_type": "code",
      "metadata": {
        "id": "ZZaOeHo1alCB"
      },
      "source": [
        "!(samtools view -H RPF-siLuc.bam; \\\n",
        "  samtools view -F20 RPF-siLuc.bam | \\\n",
        "  bioawk -c sam '{ if (length($seq) >= 25) print $0; }') | \\\n",
        " samtools view -b -o filtered-RPF-siLuc.bam"
      ],
      "execution_count": 8,
      "outputs": []
    },
    {
      "cell_type": "markdown",
      "metadata": {
        "id": "U1JDNb8ndTdk"
      },
      "source": [
        "큰 일을 했으니 용량을 한 번 봅니다."
      ]
    },
    {
      "cell_type": "code",
      "metadata": {
        "id": "5OrnDxegFAip",
        "colab": {
          "base_uri": "https://localhost:8080/"
        },
        "outputId": "eb0739a6-b897-42be-81d0-1c4882d1ae38"
      },
      "source": [
        "!ls -al *RPF-siLuc.bam"
      ],
      "execution_count": 9,
      "outputs": [
        {
          "output_type": "stream",
          "name": "stdout",
          "text": [
            "-rw------- 1 root root  567739792 May 13 03:16 filtered-RPF-siLuc.bam\n",
            "-rw------- 1 root root 1055123479 May  4 07:30 RPF-siLuc.bam\n"
          ]
        }
      ]
    },
    {
      "cell_type": "markdown",
      "metadata": {
        "id": "pr9zpKFmdi2e"
      },
      "source": [
        "자 이제 read의 5' end 위치를 셉니다. bedtools의 `genomecov`를 쓰면 아주 편리합니다."
      ]
    },
    {
      "cell_type": "code",
      "metadata": {
        "id": "IZjHau7zftoU",
        "colab": {
          "base_uri": "https://localhost:8080/"
        },
        "outputId": "a178ebd8-0707-4958-83a1-531b3d8ad4c6"
      },
      "source": [
        "!bedtools genomecov -ibam filtered-RPF-siLuc.bam -bg -5 > fivepcounts-RPF-siLuc.bed\n",
        "!head fivepcounts-RPF-siLuc.bed"
      ],
      "execution_count": 10,
      "outputs": [
        {
          "output_type": "stream",
          "name": "stdout",
          "text": [
            "tcmalloc: large alloc 1561239552 bytes == 0x556faa424000 @  0x7fc63fdb4887 0x556fa8963a26 0x556fa8966b7b 0x556fa8967b1e 0x556fa8960132 0x556fa891768d 0x7fc63f23ec87 0x556fa891eee9\n",
            "tcmalloc: large alloc 1454047232 bytes == 0x556faa424000 @  0x7fc63fdb4887 0x556fa8963a26 0x556fa8966b7b 0x556fa8967b1e 0x556fa8960132 0x556fa891768d 0x7fc63f23ec87 0x556fa891eee9\n",
            "chr1\t3176534\t3176535\t1\n",
            "chr1\t3196256\t3196257\t1\n",
            "chr1\t3221526\t3221527\t1\n",
            "chr1\t3221542\t3221543\t2\n",
            "chr1\t3221545\t3221546\t3\n",
            "chr1\t3221546\t3221547\t2\n",
            "chr1\t3221548\t3221550\t1\n",
            "chr1\t3221571\t3221572\t1\n",
            "chr1\t3221897\t3221898\t1\n",
            "chr1\t3221994\t3221995\t1\n"
          ]
        }
      ]
    },
    {
      "cell_type": "markdown",
      "metadata": {
        "id": "y_AHnHnZmYJu"
      },
      "source": [
        "그렇게 match 된 것들 중에 앞에서 찾은 start codon을 포함한 exon과 겹치는 것만 골라냅니다."
      ]
    },
    {
      "cell_type": "code",
      "metadata": {
        "id": "k1cOiX2Hftlx",
        "colab": {
          "base_uri": "https://localhost:8080/"
        },
        "outputId": "0d5476a8-eb8d-4a5e-ff71-63fff50884e9"
      },
      "source": [
        "!bedtools intersect -a fivepcounts-RPF-siLuc.bed -b gencode-exons-containing-startcodon.bed \\\n",
        " -wa -wb -nonamecheck > fivepcounts-filtered-RPF-siLuc.txt\n",
        "!head fivepcounts-filtered-RPF-siLuc.txt"
      ],
      "execution_count": 11,
      "outputs": [
        {
          "output_type": "stream",
          "name": "stdout",
          "text": [
            "chr1\t4878048\t4878049\t1\tchr1\t4878010\t4878205\tENSMUST00000134384.8\t4878136\t+\n",
            "chr1\t4878048\t4878049\t1\tchr1\t4878045\t4878205\tENSMUST00000027036.11\t4878136\t+\n",
            "chr1\t4878077\t4878078\t1\tchr1\t4878010\t4878205\tENSMUST00000134384.8\t4878136\t+\n",
            "chr1\t4878077\t4878078\t1\tchr1\t4878045\t4878205\tENSMUST00000027036.11\t4878136\t+\n",
            "chr1\t4878077\t4878078\t1\tchr1\t4878052\t4878205\tENSMUST00000150971.8\t4878136\t+\n",
            "chr1\t4878101\t4878102\t4\tchr1\t4878010\t4878205\tENSMUST00000134384.8\t4878136\t+\n",
            "chr1\t4878101\t4878102\t4\tchr1\t4878045\t4878205\tENSMUST00000027036.11\t4878136\t+\n",
            "chr1\t4878101\t4878102\t4\tchr1\t4878052\t4878205\tENSMUST00000150971.8\t4878136\t+\n",
            "chr1\t4878103\t4878104\t1\tchr1\t4878010\t4878205\tENSMUST00000134384.8\t4878136\t+\n",
            "chr1\t4878103\t4878104\t1\tchr1\t4878045\t4878205\tENSMUST00000027036.11\t4878136\t+\n"
          ]
        }
      ]
    },
    {
      "cell_type": "markdown",
      "metadata": {
        "id": "0OcjYZ9bnL_6"
      },
      "source": [
        "모든 준비가 끝났습니다. 이제 Figure S5A 도전해 보세요!\n",
        "\n",
        "* stop codon은 빼고 start codon 만입니다.\n",
        "* 논문에서는 처리가 어려운 부분까지 모두 포함됐고, read를 중첩해서 세지 않았기 때문에, 여기서 세는 것과는 수치는 다를 수 있습니다.\n",
        "* `pandas`로 한꺼번에 데이터를 모두 불러들이면 메모리가 부족할 수도 있습니다. 그런 경우에는 chunk를 쓰거나, 줄 단위로 처리해 보세요."
      ]
    },
    {
      "cell_type": "code",
      "source": [
        "import pandas as pd"
      ],
      "metadata": {
        "id": "t5Bs5cqQcN3z"
      },
      "execution_count": 13,
      "outputs": []
    },
    {
      "cell_type": "code",
      "source": [
        "# 1. 데이터 불러오기 \n",
        "data = pd.read_csv('fivepcounts-filtered-RPF-siLuc.txt', sep = \"\\t\",header=None)\n",
        "data.head(5)"
      ],
      "metadata": {
        "id": "VZI6ZYkspdMN",
        "colab": {
          "base_uri": "https://localhost:8080/",
          "height": 206
        },
        "outputId": "f9b8db87-5e81-4463-d298-0a5e0f735225"
      },
      "execution_count": 14,
      "outputs": [
        {
          "output_type": "execute_result",
          "data": {
            "text/plain": [
              "      0        1        2  3     4        5        6                      7  \\\n",
              "0  chr1  4878048  4878049  1  chr1  4878010  4878205   ENSMUST00000134384.8   \n",
              "1  chr1  4878048  4878049  1  chr1  4878045  4878205  ENSMUST00000027036.11   \n",
              "2  chr1  4878077  4878078  1  chr1  4878010  4878205   ENSMUST00000134384.8   \n",
              "3  chr1  4878077  4878078  1  chr1  4878045  4878205  ENSMUST00000027036.11   \n",
              "4  chr1  4878077  4878078  1  chr1  4878052  4878205   ENSMUST00000150971.8   \n",
              "\n",
              "         8  9  \n",
              "0  4878136  +  \n",
              "1  4878136  +  \n",
              "2  4878136  +  \n",
              "3  4878136  +  \n",
              "4  4878136  +  "
            ],
            "text/html": [
              "\n",
              "  <div id=\"df-a2d70b8a-fd02-4e47-a8f2-feff4ac5fed1\">\n",
              "    <div class=\"colab-df-container\">\n",
              "      <div>\n",
              "<style scoped>\n",
              "    .dataframe tbody tr th:only-of-type {\n",
              "        vertical-align: middle;\n",
              "    }\n",
              "\n",
              "    .dataframe tbody tr th {\n",
              "        vertical-align: top;\n",
              "    }\n",
              "\n",
              "    .dataframe thead th {\n",
              "        text-align: right;\n",
              "    }\n",
              "</style>\n",
              "<table border=\"1\" class=\"dataframe\">\n",
              "  <thead>\n",
              "    <tr style=\"text-align: right;\">\n",
              "      <th></th>\n",
              "      <th>0</th>\n",
              "      <th>1</th>\n",
              "      <th>2</th>\n",
              "      <th>3</th>\n",
              "      <th>4</th>\n",
              "      <th>5</th>\n",
              "      <th>6</th>\n",
              "      <th>7</th>\n",
              "      <th>8</th>\n",
              "      <th>9</th>\n",
              "    </tr>\n",
              "  </thead>\n",
              "  <tbody>\n",
              "    <tr>\n",
              "      <th>0</th>\n",
              "      <td>chr1</td>\n",
              "      <td>4878048</td>\n",
              "      <td>4878049</td>\n",
              "      <td>1</td>\n",
              "      <td>chr1</td>\n",
              "      <td>4878010</td>\n",
              "      <td>4878205</td>\n",
              "      <td>ENSMUST00000134384.8</td>\n",
              "      <td>4878136</td>\n",
              "      <td>+</td>\n",
              "    </tr>\n",
              "    <tr>\n",
              "      <th>1</th>\n",
              "      <td>chr1</td>\n",
              "      <td>4878048</td>\n",
              "      <td>4878049</td>\n",
              "      <td>1</td>\n",
              "      <td>chr1</td>\n",
              "      <td>4878045</td>\n",
              "      <td>4878205</td>\n",
              "      <td>ENSMUST00000027036.11</td>\n",
              "      <td>4878136</td>\n",
              "      <td>+</td>\n",
              "    </tr>\n",
              "    <tr>\n",
              "      <th>2</th>\n",
              "      <td>chr1</td>\n",
              "      <td>4878077</td>\n",
              "      <td>4878078</td>\n",
              "      <td>1</td>\n",
              "      <td>chr1</td>\n",
              "      <td>4878010</td>\n",
              "      <td>4878205</td>\n",
              "      <td>ENSMUST00000134384.8</td>\n",
              "      <td>4878136</td>\n",
              "      <td>+</td>\n",
              "    </tr>\n",
              "    <tr>\n",
              "      <th>3</th>\n",
              "      <td>chr1</td>\n",
              "      <td>4878077</td>\n",
              "      <td>4878078</td>\n",
              "      <td>1</td>\n",
              "      <td>chr1</td>\n",
              "      <td>4878045</td>\n",
              "      <td>4878205</td>\n",
              "      <td>ENSMUST00000027036.11</td>\n",
              "      <td>4878136</td>\n",
              "      <td>+</td>\n",
              "    </tr>\n",
              "    <tr>\n",
              "      <th>4</th>\n",
              "      <td>chr1</td>\n",
              "      <td>4878077</td>\n",
              "      <td>4878078</td>\n",
              "      <td>1</td>\n",
              "      <td>chr1</td>\n",
              "      <td>4878052</td>\n",
              "      <td>4878205</td>\n",
              "      <td>ENSMUST00000150971.8</td>\n",
              "      <td>4878136</td>\n",
              "      <td>+</td>\n",
              "    </tr>\n",
              "  </tbody>\n",
              "</table>\n",
              "</div>\n",
              "      <button class=\"colab-df-convert\" onclick=\"convertToInteractive('df-a2d70b8a-fd02-4e47-a8f2-feff4ac5fed1')\"\n",
              "              title=\"Convert this dataframe to an interactive table.\"\n",
              "              style=\"display:none;\">\n",
              "        \n",
              "  <svg xmlns=\"http://www.w3.org/2000/svg\" height=\"24px\"viewBox=\"0 0 24 24\"\n",
              "       width=\"24px\">\n",
              "    <path d=\"M0 0h24v24H0V0z\" fill=\"none\"/>\n",
              "    <path d=\"M18.56 5.44l.94 2.06.94-2.06 2.06-.94-2.06-.94-.94-2.06-.94 2.06-2.06.94zm-11 1L8.5 8.5l.94-2.06 2.06-.94-2.06-.94L8.5 2.5l-.94 2.06-2.06.94zm10 10l.94 2.06.94-2.06 2.06-.94-2.06-.94-.94-2.06-.94 2.06-2.06.94z\"/><path d=\"M17.41 7.96l-1.37-1.37c-.4-.4-.92-.59-1.43-.59-.52 0-1.04.2-1.43.59L10.3 9.45l-7.72 7.72c-.78.78-.78 2.05 0 2.83L4 21.41c.39.39.9.59 1.41.59.51 0 1.02-.2 1.41-.59l7.78-7.78 2.81-2.81c.8-.78.8-2.07 0-2.86zM5.41 20L4 18.59l7.72-7.72 1.47 1.35L5.41 20z\"/>\n",
              "  </svg>\n",
              "      </button>\n",
              "      \n",
              "  <style>\n",
              "    .colab-df-container {\n",
              "      display:flex;\n",
              "      flex-wrap:wrap;\n",
              "      gap: 12px;\n",
              "    }\n",
              "\n",
              "    .colab-df-convert {\n",
              "      background-color: #E8F0FE;\n",
              "      border: none;\n",
              "      border-radius: 50%;\n",
              "      cursor: pointer;\n",
              "      display: none;\n",
              "      fill: #1967D2;\n",
              "      height: 32px;\n",
              "      padding: 0 0 0 0;\n",
              "      width: 32px;\n",
              "    }\n",
              "\n",
              "    .colab-df-convert:hover {\n",
              "      background-color: #E2EBFA;\n",
              "      box-shadow: 0px 1px 2px rgba(60, 64, 67, 0.3), 0px 1px 3px 1px rgba(60, 64, 67, 0.15);\n",
              "      fill: #174EA6;\n",
              "    }\n",
              "\n",
              "    [theme=dark] .colab-df-convert {\n",
              "      background-color: #3B4455;\n",
              "      fill: #D2E3FC;\n",
              "    }\n",
              "\n",
              "    [theme=dark] .colab-df-convert:hover {\n",
              "      background-color: #434B5C;\n",
              "      box-shadow: 0px 1px 3px 1px rgba(0, 0, 0, 0.15);\n",
              "      filter: drop-shadow(0px 1px 2px rgba(0, 0, 0, 0.3));\n",
              "      fill: #FFFFFF;\n",
              "    }\n",
              "  </style>\n",
              "\n",
              "      <script>\n",
              "        const buttonEl =\n",
              "          document.querySelector('#df-a2d70b8a-fd02-4e47-a8f2-feff4ac5fed1 button.colab-df-convert');\n",
              "        buttonEl.style.display =\n",
              "          google.colab.kernel.accessAllowed ? 'block' : 'none';\n",
              "\n",
              "        async function convertToInteractive(key) {\n",
              "          const element = document.querySelector('#df-a2d70b8a-fd02-4e47-a8f2-feff4ac5fed1');\n",
              "          const dataTable =\n",
              "            await google.colab.kernel.invokeFunction('convertToInteractive',\n",
              "                                                     [key], {});\n",
              "          if (!dataTable) return;\n",
              "\n",
              "          const docLinkHtml = 'Like what you see? Visit the ' +\n",
              "            '<a target=\"_blank\" href=https://colab.research.google.com/notebooks/data_table.ipynb>data table notebook</a>'\n",
              "            + ' to learn more about interactive tables.';\n",
              "          element.innerHTML = '';\n",
              "          dataTable['output_type'] = 'display_data';\n",
              "          await google.colab.output.renderOutput(dataTable, element);\n",
              "          const docLink = document.createElement('div');\n",
              "          docLink.innerHTML = docLinkHtml;\n",
              "          element.appendChild(docLink);\n",
              "        }\n",
              "      </script>\n",
              "    </div>\n",
              "  </div>\n",
              "  "
            ]
          },
          "metadata": {},
          "execution_count": 14
        }
      ]
    },
    {
      "cell_type": "code",
      "source": [
        "# 2. 데이터 전처리 (column명 수정)\n",
        "data.columns = ['chromosome','g_start','g_end','counts','chr','e_start','e_end','transcript','start_codon','strand']"
      ],
      "metadata": {
        "id": "MoZNbWmzaMEN"
      },
      "execution_count": 15,
      "outputs": []
    },
    {
      "cell_type": "code",
      "source": [
        "# 3. 시작지점 정해주고, 그룹화 하기 \n",
        "data['start']= data[\"g_start\"] - data['start_codon']\n",
        "group = data['counts'].groupby(data['start'])\n",
        "data2 = group.sum().to_frame()"
      ],
      "metadata": {
        "id": "cDr9_3ePaMM8"
      },
      "execution_count": 20,
      "outputs": []
    },
    {
      "cell_type": "code",
      "source": [
        "data2.head(5)"
      ],
      "metadata": {
        "colab": {
          "base_uri": "https://localhost:8080/",
          "height": 238
        },
        "id": "Vj5qPH0taMaC",
        "outputId": "4f06d66f-0d1c-4513-89e9-0afeb2234b6e"
      },
      "execution_count": 21,
      "outputs": [
        {
          "output_type": "execute_result",
          "data": {
            "text/plain": [
              "       counts\n",
              "start        \n",
              "-7536       1\n",
              "-7530       1\n",
              "-7523       1\n",
              "-7520       9\n",
              "-7519      11"
            ],
            "text/html": [
              "\n",
              "  <div id=\"df-fb0ec7dc-6c42-4d36-abd0-e6b917e201e8\">\n",
              "    <div class=\"colab-df-container\">\n",
              "      <div>\n",
              "<style scoped>\n",
              "    .dataframe tbody tr th:only-of-type {\n",
              "        vertical-align: middle;\n",
              "    }\n",
              "\n",
              "    .dataframe tbody tr th {\n",
              "        vertical-align: top;\n",
              "    }\n",
              "\n",
              "    .dataframe thead th {\n",
              "        text-align: right;\n",
              "    }\n",
              "</style>\n",
              "<table border=\"1\" class=\"dataframe\">\n",
              "  <thead>\n",
              "    <tr style=\"text-align: right;\">\n",
              "      <th></th>\n",
              "      <th>counts</th>\n",
              "    </tr>\n",
              "    <tr>\n",
              "      <th>start</th>\n",
              "      <th></th>\n",
              "    </tr>\n",
              "  </thead>\n",
              "  <tbody>\n",
              "    <tr>\n",
              "      <th>-7536</th>\n",
              "      <td>1</td>\n",
              "    </tr>\n",
              "    <tr>\n",
              "      <th>-7530</th>\n",
              "      <td>1</td>\n",
              "    </tr>\n",
              "    <tr>\n",
              "      <th>-7523</th>\n",
              "      <td>1</td>\n",
              "    </tr>\n",
              "    <tr>\n",
              "      <th>-7520</th>\n",
              "      <td>9</td>\n",
              "    </tr>\n",
              "    <tr>\n",
              "      <th>-7519</th>\n",
              "      <td>11</td>\n",
              "    </tr>\n",
              "  </tbody>\n",
              "</table>\n",
              "</div>\n",
              "      <button class=\"colab-df-convert\" onclick=\"convertToInteractive('df-fb0ec7dc-6c42-4d36-abd0-e6b917e201e8')\"\n",
              "              title=\"Convert this dataframe to an interactive table.\"\n",
              "              style=\"display:none;\">\n",
              "        \n",
              "  <svg xmlns=\"http://www.w3.org/2000/svg\" height=\"24px\"viewBox=\"0 0 24 24\"\n",
              "       width=\"24px\">\n",
              "    <path d=\"M0 0h24v24H0V0z\" fill=\"none\"/>\n",
              "    <path d=\"M18.56 5.44l.94 2.06.94-2.06 2.06-.94-2.06-.94-.94-2.06-.94 2.06-2.06.94zm-11 1L8.5 8.5l.94-2.06 2.06-.94-2.06-.94L8.5 2.5l-.94 2.06-2.06.94zm10 10l.94 2.06.94-2.06 2.06-.94-2.06-.94-.94-2.06-.94 2.06-2.06.94z\"/><path d=\"M17.41 7.96l-1.37-1.37c-.4-.4-.92-.59-1.43-.59-.52 0-1.04.2-1.43.59L10.3 9.45l-7.72 7.72c-.78.78-.78 2.05 0 2.83L4 21.41c.39.39.9.59 1.41.59.51 0 1.02-.2 1.41-.59l7.78-7.78 2.81-2.81c.8-.78.8-2.07 0-2.86zM5.41 20L4 18.59l7.72-7.72 1.47 1.35L5.41 20z\"/>\n",
              "  </svg>\n",
              "      </button>\n",
              "      \n",
              "  <style>\n",
              "    .colab-df-container {\n",
              "      display:flex;\n",
              "      flex-wrap:wrap;\n",
              "      gap: 12px;\n",
              "    }\n",
              "\n",
              "    .colab-df-convert {\n",
              "      background-color: #E8F0FE;\n",
              "      border: none;\n",
              "      border-radius: 50%;\n",
              "      cursor: pointer;\n",
              "      display: none;\n",
              "      fill: #1967D2;\n",
              "      height: 32px;\n",
              "      padding: 0 0 0 0;\n",
              "      width: 32px;\n",
              "    }\n",
              "\n",
              "    .colab-df-convert:hover {\n",
              "      background-color: #E2EBFA;\n",
              "      box-shadow: 0px 1px 2px rgba(60, 64, 67, 0.3), 0px 1px 3px 1px rgba(60, 64, 67, 0.15);\n",
              "      fill: #174EA6;\n",
              "    }\n",
              "\n",
              "    [theme=dark] .colab-df-convert {\n",
              "      background-color: #3B4455;\n",
              "      fill: #D2E3FC;\n",
              "    }\n",
              "\n",
              "    [theme=dark] .colab-df-convert:hover {\n",
              "      background-color: #434B5C;\n",
              "      box-shadow: 0px 1px 3px 1px rgba(0, 0, 0, 0.15);\n",
              "      filter: drop-shadow(0px 1px 2px rgba(0, 0, 0, 0.3));\n",
              "      fill: #FFFFFF;\n",
              "    }\n",
              "  </style>\n",
              "\n",
              "      <script>\n",
              "        const buttonEl =\n",
              "          document.querySelector('#df-fb0ec7dc-6c42-4d36-abd0-e6b917e201e8 button.colab-df-convert');\n",
              "        buttonEl.style.display =\n",
              "          google.colab.kernel.accessAllowed ? 'block' : 'none';\n",
              "\n",
              "        async function convertToInteractive(key) {\n",
              "          const element = document.querySelector('#df-fb0ec7dc-6c42-4d36-abd0-e6b917e201e8');\n",
              "          const dataTable =\n",
              "            await google.colab.kernel.invokeFunction('convertToInteractive',\n",
              "                                                     [key], {});\n",
              "          if (!dataTable) return;\n",
              "\n",
              "          const docLinkHtml = 'Like what you see? Visit the ' +\n",
              "            '<a target=\"_blank\" href=https://colab.research.google.com/notebooks/data_table.ipynb>data table notebook</a>'\n",
              "            + ' to learn more about interactive tables.';\n",
              "          element.innerHTML = '';\n",
              "          dataTable['output_type'] = 'display_data';\n",
              "          await google.colab.output.renderOutput(dataTable, element);\n",
              "          const docLink = document.createElement('div');\n",
              "          docLink.innerHTML = docLinkHtml;\n",
              "          element.appendChild(docLink);\n",
              "        }\n",
              "      </script>\n",
              "    </div>\n",
              "  </div>\n",
              "  "
            ]
          },
          "metadata": {},
          "execution_count": 21
        }
      ]
    },
    {
      "cell_type": "code",
      "source": [
        "data2 = data2.filter(items = list(range(-50,51)), axis=0)"
      ],
      "metadata": {
        "id": "0BxF0zPxaMdc"
      },
      "execution_count": 22,
      "outputs": []
    },
    {
      "cell_type": "code",
      "source": [
        "import matplotlib.pyplot as plt\n",
        "import seaborn as sns\n",
        "\n",
        "plt.bar(data2 ['counts'].index, data2 ['counts']/1000, color='black')\n",
        "plt.title('Start Codon')\n",
        "plt.xlabel(\"Start codon's relative position \")\n",
        "plt.ylabel('Raw read count (x1000)')\n",
        "plt.show()"
      ],
      "metadata": {
        "colab": {
          "base_uri": "https://localhost:8080/",
          "height": 295
        },
        "id": "6ndSvPFObF9q",
        "outputId": "2e29e2f8-ae6a-4725-c2d0-51bd728b33d3"
      },
      "execution_count": 25,
      "outputs": [
        {
          "output_type": "display_data",
          "data": {
            "text/plain": [
              "<Figure size 432x288 with 1 Axes>"
            ],
            "image/png": "[encoded data removed]"
          },
          "metadata": {
            "needs_background": "light"
          }
        }
      ]
    },
    {
      "cell_type": "code",
      "source": [
        ""
      ],
      "metadata": {
        "id": "3K3SbZo0bGD5"
      },
      "execution_count": null,
      "outputs": []
    },
    {
      "cell_type": "code",
      "metadata": {
        "id": "aPPW73t4X3pp",
        "colab": {
          "base_uri": "https://localhost:8080/"
        },
        "outputId": "c426d597-b387-4f38-ecc7-291edb1bfd60"
      },
      "source": [
        "!ssh-keygen"
      ],
      "execution_count": null,
      "outputs": [
        {
          "output_type": "stream",
          "name": "stdout",
          "text": [
            "Generating public/private rsa key pair.\n",
            "Enter file in which to save the key (/root/.ssh/id_rsa): \n",
            "Created directory '/root/.ssh'.\n",
            "Enter passphrase (empty for no passphrase): \n",
            "Enter same passphrase again: \n",
            "Your identification has been saved in /root/.ssh/id_rsa.\n",
            "Your public key has been saved in /root/.ssh/id_rsa.pub.\n",
            "The key fingerprint is:\n",
            "SHA256:YE714LiahyeukdpLOLRAgEn+LpfMd+mEbHE/BdvpvFI root@46f93eae2c6b\n",
            "The key's randomart image is:\n",
            "+---[RSA 2048]----+\n",
            "|+o      o        |\n",
            "|=      + o       |\n",
            "| o    = ...      |\n",
            "|. .  + o  + .    |\n",
            "|.. . .o.S. +     |\n",
            "|o.=.o++ o +E     |\n",
            "|oo+*==o+ o.o     |\n",
            "| =ooo++  .. .    |\n",
            "|. +o.  .  ..     |\n",
            "+----[SHA256]-----+\n"
          ]
        }
      ]
    },
    {
      "cell_type": "code",
      "source": [
        "!cat ~/.ssh/id_rsa.pub"
      ],
      "metadata": {
        "colab": {
          "base_uri": "https://localhost:8080/"
        },
        "id": "vkqG7A6vmtro",
        "outputId": "97d7e0d5-6a36-496c-e1e2-bb0047b67b5b"
      },
      "execution_count": null,
      "outputs": [
        {
          "output_type": "stream",
          "name": "stdout",
          "text": [
            "ssh-rsa AAAAB3NzaC1yc2EAAAADAQABAAABAQDK22RgsrjliosM4qCv5Eu/9IN+2/BaWc1A0OvDxY2jilUINitpghfQ0YUiSSE2RBzlftlZM4BPQ2Tictsw+jbfLq7kYjzhNVZpx2QQ3gKnXFbNcrqhkOkUCBHGT1KhogocYHUlfdnnLw4TgbxJs6mJ8sqNs+bN/7lCGwfhfCFATp+vfWyrn7AV9QY478cwwudsRBTmyxcjOPytgBnXrhjKVLN1JUNeFrWk1CW8yDV+4denVDk09AlRN8sX+uaQgrVNSqYzCWRI+2jcG2xX5T0Krw+9S0j3ZomgvOEC6QBFtTIlqQHMWGLvhdNYhrocWHhgfSOy+ln4TnSengLelS7D root@46f93eae2c6b\n"
          ]
        }
      ]
    }
  ]
}